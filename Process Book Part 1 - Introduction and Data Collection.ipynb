{
 "cells": [
  {
   "cell_type": "markdown",
   "metadata": {},
   "source": [
    "<h1> More Than Just a Game: Understanding Win Conditions in <i>League of Legends</i> </h1>"
   ]
  },
  {
   "cell_type": "markdown",
   "metadata": {},
   "source": [
    "<h2 align = 'center'> Overview and Motivation </h2>\n",
    "\n",
    "Normally, when we ask people to picture professional athletes, they picture something like this: \n",
    "\n",
    "<img src = http://www.mensfitness.com/sites/mensfitness.com/files/d6/smartest-athletes_main.jpg>\n",
    "\n",
    "Professional sports in the United States is a multi-billion dollar industry. In addition to paid professional players, numerous jobs regarding data analytics in sports occupy the industry. What is the best formation for this football team? What order should the team bat in? In an industry where winning is key, optimal strategies designed to win are constantly sought after.\n",
    "\n",
    "But physical sports aren't the only competitive environment that requires analysis of optimal strategy. Here's another picture of a newly emerging group of professional \"eSports\" athletes: \n",
    "\n",
    "<img src = http://i.imgur.com/Dbs3fhb.jpg style=\"width: 600px;\"/>\n",
    "\n",
    "While it may seem proposterous to think that professional video games are anywhere near as large as professional sports, consider this fact; excluding the Super Bowl, the League of Legends (the currently most popular video game in the world) World Championship Final was the highest viewed event, at 36 million viewers in 2015. Yes, [it beat the NBA Finals and the World Series.]([http://espn.go.com/nfl/story/_/id/14320491/an-oral-history-league) Here's a picture of the 2015 finals, held in the Brussels Expo in Belgium: \n",
    "\n",
    "<img src = http://d3psvddqt9zx7g.cloudfront.net/blog/wp-content/uploads/2015/10/League-of-Legends-world-championship.jpg>\n",
    "\n",
    "Games like League of Legends have competitive scenes that have been rapidly growing, both in size and exposure. With these increased stakes, much effort has been put into detailed analysis of the game. Similar to how a sports analyst would look for optimal strategy in a game of football, video game analysts look for winning compositions (which characters to pick), which items to buy, or where to be at what time of the game. Having the right strategy could be the difference between being the best in the world or going home second. \n",
    "\n",
    "Unsurprisingly, the League of Legends competitive scene has trickled from professional play all the way down to the collegiate level; Harvard too has its own League of Legends team. Currently, Harvard's team is part of a national Collegiate League of Legends Championship tournament with a first place prize of $150,000 for the team. \n",
    "\n",
    "But before we delve too much into the project, it's important that you understand the basics of how League of Legends works. Similar to a basketball game, a game of League of Legends pits 5 players against 5. Either team wins by destroying the enemy Nexus, a building located at each team's base. Standing in the way of this goal, however, are many different obstacles. Each player chooses one of 128 different \"champions.\" These champions fight each other, gain resource called \"gold\" (which is obtained by killing enemy champions, towers, or AI-controlled 'minions') to buy items that make them stronger, and push down turrets and inhibitors - buildings that defend the path to the nexus to win. Along the course of the game, there are many other objectives (dragon, baron, neutral monsters), which for purposes of this project can simply be considered \"side objectives\" that give players more resources to beat the other team. Games usually last between 20 and 45 minutes.\n",
    "\n",
    "Here is a fantastic, short, 5 minute video that explains all the basics of League of Legends:\n",
    "[![What is League?](http://i.stack.imgur.com/LT3WE.png)](https://www.youtube.com/watch?v=BGtROJeMPeE \"What is League of Legends?\")\n",
    "\n",
    "Here is where our project comes in: we want to find out what the most important aspects of the game are. Obviously the end goal is to take down the enemy Nexus, but there are many different ways to gather resources and strategize; a team can seek to take down towers as quickly as possible, while another team may look to get as many dragon kills as possible to gain enough strength to take down the nexus. A possible analogy one could use is strategy in American football; should a team pass or run more? Should the defense blitz or play a safe zone-coverage? These type of questions are the ones we want to ask in the world of League of Legends.\n",
    "\n",
    "Why is this important? Basically, we want to know <b> what wins games and when they are won</b>. Along the process of a game, there are several metrics that tell how well a player is doing (examples include how much gold he/she has earned, how many champion kills he has had, etc.). We want to know if there are specific factors that are particularly important in determining which team will win, and at what point in the game these factors are determined. Knowing this information will be vital to team strategy, as it will change the objectives that we focus on, the type of champions we will pick, or the playstyle that we have. Finally, this project will help all League of Legends players understand how \"set\" games are at certain time periods. Similar to how, say, the winner of a game of basketball is almost 100% determined if one team is 20 points ahead with 5 minutes of game time remaining, we want to know how different metrics at different times in a game of League of Legends can accurately predict which team will win."
   ]
  },
  {
   "cell_type": "markdown",
   "metadata": {},
   "source": [
    "<h2 align = 'center'> Related Work </h2>\n",
    "\n",
    "In terms of methods used, we learned a lot from the OLS, Logistics regressions as well as the Random Forest method (we'll talk about how we used these methods below) which we learned in the various problem sets. We also looked at a project that used Naive Bayes/Random Forest on League of Legends data: [Link Here](http://www.trailofpapers.net/2015/10/playing-in-random-forests-in-league-of.html). While this project focused more on determining which overall stats stood out at the end of every game, this blog post helped us understand at least the baseline fundamental features that we ought to consider when creating some sort of model to test for relevant factors to victory."
   ]
  },
  {
   "cell_type": "markdown",
   "metadata": {
    "collapsed": true
   },
   "source": [
    "<h2 align = 'center'> Initial Questions </h2>\n",
    "\n",
    "Originally, the main question we wanted to ask was \"what factors are important to win League of Legends games?\" While similar to the question that we have now, a key difference lies in the fact that we didn't consider the possibility of splitting up the data based on time. It was only after consideration of the fact that importance of factors may change over time that we decided to include comparisons of how accurate our win-predictor will be at different points in the game. Accordingly, not only do we want to know which features are important in a game of League, but also <b> when </b> these features are important. Furthermore, we wanted to know how \"determined\" or \"fixed\" a game was at certain points; if our model was very accurate after, say, 10 minutes of a game has passed, this would tell us that \"comebacks\" where losing teams come back from behind were scarce. "
   ]
  },
  {
   "cell_type": "markdown",
   "metadata": {},
   "source": [
    "<h2 align='center'> Data </h2>\n",
    "\n",
    "Fortunately, Riot Games (the company behind League of Legends) provides a plethora of data for the public to access and use, via the Riot Games API ([Reference Here](https://developer.riotgames.com/)). Specifically, there exists a Python (3) Library for accessing data from the API, named Cassiopeia (it was named after one of the champions in League). Any data request from the API requires an API key, with a hard limit of 10 requests per 10 seconds. It's important to note that every unique match in League of Legends is a match object that has a \"match.id,\" which is the index for all of the matches. Similarly, all players have a \"player.id\" for indexing different players. With the match.id, we can ask for all the different information about that match. Inside this match object contains all the information we need about who played which champion, and what they did in the game at which points. \n",
    "\n",
    "In League of Legends, the ranking system goes from Bronze-Silver-Gold-Platinum-Diamond-Master-Challenger tier. Given that we wanted to analyze high level play, we decided to pull data only from the Master and Challenger tiers (which are about the top 1000 players in the nation). \n",
    "\n",
    "<h3> Retrieving Match Data </h3>\n",
    "\n",
    "The code below creates a list of players in Master and Challenger tiers, and requests the match object from Riot Games's servers. Once acquired, we'll store all of those match objects as pickle files into a directory.\n",
    "\n",
    "Note that this code will take several hours to run; in our case it took 18 hours to pull all the data! Since we don't want you to be running code for 18 hours, here's the data in a zipped file: https://www.dropbox.com/sh/m60puhgnppth2lu/AAAaOZSjO7dll-Kg19pITOoIa?dl=0"
   ]
  },
  {
   "cell_type": "code",
   "execution_count": null,
   "metadata": {
    "collapsed": true
   },
   "outputs": [],
   "source": [
    "from cassiopeia import riotapi\n",
    "from cassiopeia.type.core.common import Queue\n",
    "import pickle\n",
    "import os\n",
    "\n",
    "# returns API key\n",
    "def get_api_key():\n",
    "    return 'YOUR_API_KEY_HERE'\n",
    "\n",
    "# input match id to save the match file locally\n",
    "def save_match(match):\n",
    "    # directory that holds our precious data\n",
    "    data_dir = \"match_data\"\n",
    "    \n",
    "    # create data directory if necessary\n",
    "    if not os.path.exists(data_dir):\n",
    "        os.makedirs(data_dir)\n",
    "    \n",
    "    # skip if the data is already there\n",
    "    if os.path.exists(data_dir + \"\\\\\" + str(match.id) + \".pickle\"):\n",
    "        print(\"Skipped match\", match.id)\n",
    "    else:\n",
    "        # save the match by writing it to disk\n",
    "        with open(os.path.join(data_dir, str(match.id)+'.pickle'), 'wb') as f:\n",
    "            pickle.dump(match, f)\n",
    "        print(\"Saved match\", match.id)\n",
    "\n",
    "# input list of players to begin downloading match data\n",
    "def download_matches(players):\n",
    "    # iterate through each player\n",
    "    for player in players:\n",
    "        print(\"Processing player\", player.id)\n",
    "        # iterate through each player's ranked-solo-queue matches\n",
    "        for matchref in riotapi.get_match_list(player, ranked_queues=[Queue.ranked_solo]):\n",
    "            # call save_match function to save each ranked-solo-queue match of each player to disk\n",
    "            save_match(riotapi.get_match(matchref.id))\n",
    "\n",
    "# returns a list of all players in Challenger and Master in ranked-solo-queue\n",
    "def get_high_elo():\n",
    "    summoners = []\n",
    "    for entry in riotapi.get_challenger():\n",
    "        summoners.append(entry.summoner)\n",
    "        \n",
    "    for entry in riotapi.get_master():\n",
    "        summoners.append(entry.summoner)\n",
    "\n",
    "    return summoners\n",
    "\n",
    "# establish server, API key, and begin downloading matches\n",
    "def main():\n",
    "    riotapi.set_region(\"NA\")\n",
    "    riotapi.set_api_key(get_api_key())\n",
    "    download_matches(get_high_elo())\n",
    "\n",
    "main()"
   ]
  }
 ],
 "metadata": {
  "kernelspec": {
   "display_name": "Python 2",
   "language": "python",
   "name": "python2"
  },
  "language_info": {
   "codemirror_mode": {
    "name": "ipython",
    "version": 2
   },
   "file_extension": ".py",
   "mimetype": "text/x-python",
   "name": "python",
   "nbconvert_exporter": "python",
   "pygments_lexer": "ipython2",
   "version": "2.7.10"
  }
 },
 "nbformat": 4,
 "nbformat_minor": 0
}
