{
 "cells": [
  {
   "cell_type": "code",
   "execution_count": 3,
   "metadata": {
    "collapsed": true
   },
   "outputs": [],
   "source": [
    "%matplotlib inline\n",
    "import numpy as np\n",
    "import scipy as sp\n",
    "import matplotlib as mpl\n",
    "import matplotlib.cm as cm\n",
    "import matplotlib.pyplot as plt\n",
    "import pandas as pd\n",
    "pd.set_option('display.width', 500)\n",
    "pd.set_option('display.max_columns', 100)\n",
    "pd.set_option('display.notebook_repr_html', True)\n",
    "import seaborn as sns\n",
    "sns.set_style(\"whitegrid\")\n",
    "sns.set_context(\"poster\")"
   ]
  },
  {
   "cell_type": "code",
   "execution_count": 4,
   "metadata": {
    "collapsed": false
   },
   "outputs": [
    {
     "data": {
      "text/html": [
       "<div>\n",
       "<table border=\"1\" class=\"dataframe\">\n",
       "  <thead>\n",
       "    <tr style=\"text-align: right;\">\n",
       "      <th></th>\n",
       "      <th>diffbaron</th>\n",
       "      <th>diffcc</th>\n",
       "      <th>diffcs</th>\n",
       "      <th>diffdmg</th>\n",
       "      <th>diffdrag</th>\n",
       "      <th>diffgold</th>\n",
       "      <th>diffinhib</th>\n",
       "      <th>diffkda</th>\n",
       "      <th>diffrange</th>\n",
       "      <th>diffspree</th>\n",
       "      <th>difftank</th>\n",
       "      <th>diffturr</th>\n",
       "      <th>fbaron</th>\n",
       "      <th>fblood</th>\n",
       "      <th>fdrag</th>\n",
       "      <th>finhib</th>\n",
       "      <th>fturret</th>\n",
       "      <th>win</th>\n",
       "    </tr>\n",
       "  </thead>\n",
       "  <tbody>\n",
       "    <tr>\n",
       "      <th>0</th>\n",
       "      <td>1</td>\n",
       "      <td>819</td>\n",
       "      <td>155</td>\n",
       "      <td>17067</td>\n",
       "      <td>3</td>\n",
       "      <td>17703</td>\n",
       "      <td>2</td>\n",
       "      <td>18.144444</td>\n",
       "      <td>-1</td>\n",
       "      <td>5</td>\n",
       "      <td>0</td>\n",
       "      <td>8</td>\n",
       "      <td>True</td>\n",
       "      <td>False</td>\n",
       "      <td>True</td>\n",
       "      <td>True</td>\n",
       "      <td>False</td>\n",
       "      <td>True</td>\n",
       "    </tr>\n",
       "    <tr>\n",
       "      <th>1</th>\n",
       "      <td>1</td>\n",
       "      <td>-685</td>\n",
       "      <td>24</td>\n",
       "      <td>-23447</td>\n",
       "      <td>0</td>\n",
       "      <td>-11396</td>\n",
       "      <td>-2</td>\n",
       "      <td>-20.117208</td>\n",
       "      <td>1</td>\n",
       "      <td>-7</td>\n",
       "      <td>1</td>\n",
       "      <td>-4</td>\n",
       "      <td>True</td>\n",
       "      <td>False</td>\n",
       "      <td>True</td>\n",
       "      <td>False</td>\n",
       "      <td>False</td>\n",
       "      <td>False</td>\n",
       "    </tr>\n",
       "    <tr>\n",
       "      <th>2</th>\n",
       "      <td>-1</td>\n",
       "      <td>658</td>\n",
       "      <td>16</td>\n",
       "      <td>-5988</td>\n",
       "      <td>0</td>\n",
       "      <td>-11734</td>\n",
       "      <td>-2</td>\n",
       "      <td>-21.416667</td>\n",
       "      <td>1</td>\n",
       "      <td>-3</td>\n",
       "      <td>1</td>\n",
       "      <td>-6</td>\n",
       "      <td>False</td>\n",
       "      <td>True</td>\n",
       "      <td>True</td>\n",
       "      <td>False</td>\n",
       "      <td>True</td>\n",
       "      <td>False</td>\n",
       "    </tr>\n",
       "    <tr>\n",
       "      <th>3</th>\n",
       "      <td>-1</td>\n",
       "      <td>-339</td>\n",
       "      <td>-127</td>\n",
       "      <td>-9102</td>\n",
       "      <td>-2</td>\n",
       "      <td>-17661</td>\n",
       "      <td>-2</td>\n",
       "      <td>-17.531349</td>\n",
       "      <td>1</td>\n",
       "      <td>-6</td>\n",
       "      <td>0</td>\n",
       "      <td>-7</td>\n",
       "      <td>False</td>\n",
       "      <td>False</td>\n",
       "      <td>False</td>\n",
       "      <td>False</td>\n",
       "      <td>False</td>\n",
       "      <td>False</td>\n",
       "    </tr>\n",
       "    <tr>\n",
       "      <th>4</th>\n",
       "      <td>0</td>\n",
       "      <td>756</td>\n",
       "      <td>162</td>\n",
       "      <td>12505</td>\n",
       "      <td>0</td>\n",
       "      <td>11899</td>\n",
       "      <td>1</td>\n",
       "      <td>26.059524</td>\n",
       "      <td>0</td>\n",
       "      <td>3</td>\n",
       "      <td>3</td>\n",
       "      <td>5</td>\n",
       "      <td>False</td>\n",
       "      <td>False</td>\n",
       "      <td>False</td>\n",
       "      <td>True</td>\n",
       "      <td>True</td>\n",
       "      <td>True</td>\n",
       "    </tr>\n",
       "  </tbody>\n",
       "</table>\n",
       "</div>"
      ],
      "text/plain": [
       "   diffbaron  diffcc  diffcs  diffdmg  diffdrag  diffgold  diffinhib    diffkda  diffrange  diffspree  difftank  diffturr fbaron fblood  fdrag finhib fturret    win\n",
       "0          1     819     155    17067         3     17703          2  18.144444         -1          5         0         8   True  False   True   True   False   True\n",
       "1          1    -685      24   -23447         0    -11396         -2 -20.117208          1         -7         1        -4   True  False   True  False   False  False\n",
       "2         -1     658      16    -5988         0    -11734         -2 -21.416667          1         -3         1        -6  False   True   True  False    True  False\n",
       "3         -1    -339    -127    -9102        -2    -17661         -2 -17.531349          1         -6         0        -7  False  False  False  False   False  False\n",
       "4          0     756     162    12505         0     11899          1  26.059524          0          3         3         5  False  False  False   True    True   True"
      ]
     },
     "execution_count": 4,
     "metadata": {},
     "output_type": "execute_result"
    }
   ],
   "source": [
    "dftouse=pd.read_csv('newdf.csv')\n",
    "dftouse.head()"
   ]
  },
  {
   "cell_type": "code",
   "execution_count": 7,
   "metadata": {
    "collapsed": true
   },
   "outputs": [],
   "source": [
    "# load sklearn package \n",
    "from sklearn.naive_bayes import GaussianNB\n",
    "from sklearn.metrics import confusion_matrix\n",
    "from sklearn import cross_validation\n",
    "from sklearn.ensemble import RandomForestClassifier"
   ]
  },
  {
   "cell_type": "code",
   "execution_count": 10,
   "metadata": {
    "collapsed": false
   },
   "outputs": [
    {
     "name": "stdout",
     "output_type": "stream",
     "text": [
      "(array(['diffbaron', 'diffcc', 'diffcs', 'diffdmg', 'diffdrag', 'diffgold',\n",
      "       'diffinhib', 'diffkda', 'diffrange', 'diffspree', 'difftank',\n",
      "       'diffturr', 'fbaron', 'fblood', 'fdrag', 'finhib', 'fturret'], \n",
      "      dtype='|S9'),)\n"
     ]
    }
   ],
   "source": [
    "# variables for classifiers\n",
    "col_names = dftouse.columns.values\n",
    "train_col = np.array([x for x in col_names if x not in\n",
    "             ['win']])\n",
    "num_features = np.size(train_col)\n",
    "print(train_col, )"
   ]
  },
  {
   "cell_type": "code",
   "execution_count": 11,
   "metadata": {
    "collapsed": false
   },
   "outputs": [
    {
     "data": {
      "text/plain": [
       "[('diffbaron', 0.73703209217227905),\n",
       " ('diffcc', 0.57676902536715624),\n",
       " ('diffcs', 0.77169559412550071),\n",
       " ('diffdmg', 0.8998664886515354),\n",
       " ('diffdrag', 0.77594817781733672),\n",
       " ('diffgold', 0.97779755723680961),\n",
       " ('diffinhib', 0.89230084557187361),\n",
       " ('diffkda', 0.94931513623102404),\n",
       " ('diffrange', 0.52415566434258021),\n",
       " ('diffspree', 0.88933392671710432),\n",
       " ('difftank', 0.52291944815309299),\n",
       " ('diffturr', 0.96998467091925034),\n",
       " ('fbaron', 0.71596696830341688),\n",
       " ('fblood', 0.60559758690599808),\n",
       " ('fdrag', 0.67937496909459527),\n",
       " ('finhib', 0.86223606784354445)]"
      ]
     },
     "execution_count": 11,
     "metadata": {},
     "output_type": "execute_result"
    }
   ],
   "source": [
    "gnb = GaussianNB()\n",
    "def quick_score(games_df, col_index):\n",
    "    gnb.fit(games_df[[col_index]], games_df['win'])\n",
    "    return gnb.score(games_df[[col_index]], games_df['win'])\n",
    "\n",
    "scores = [quick_score(dftouse, x) for x in np.arange(num_features-1)]\n",
    "[x for x in list(zip(train_col, scores))]"
   ]
  },
  {
   "cell_type": "code",
   "execution_count": 14,
   "metadata": {
    "collapsed": false
   },
   "outputs": [
    {
     "name": "stdout",
     "output_type": "stream",
     "text": [
      "['diffbaron', 'diffcc', 'diffcs', 'diffdmg', 'diffdrag', 'diffgold', 'diffinhib', 'diffkda', 'diffrange', 'diffspree', 'difftank', 'diffturr', 'fbaron', 'fblood', 'fdrag', 'finhib', 'fturret']\n"
     ]
    },
    {
     "data": {
      "image/png": "[encoded data removed]",
      "text/plain": [
       "<matplotlib.figure.Figure at 0x1f10d4a8>"
      ]
     },
     "metadata": {},
     "output_type": "display_data"
    }
   ],
   "source": [
    "#training columns\n",
    "x_col = list(dftouse.columns.values)\n",
    "\n",
    "#removing winner/loser\n",
    "x_col.remove('win')\n",
    "\n",
    "#what are the features? \n",
    "print x_col\n",
    "\n",
    "#Creating a large forest so we can better identify important features\n",
    "clfForest = RandomForestClassifier(n_jobs = 3, n_estimators = 100)\n",
    "#Fit the classifier\n",
    "clfForest = clfForest.fit(dftouse[x_col], dftouse[\"win\"])\n",
    "\n",
    "#importance\n",
    "importances = clfForest.feature_importances_\n",
    "importances, x_col = zip(*sorted(zip(importances, x_col)))\n",
    "\n",
    "#plot importances\n",
    "plt.barh(range(len(x_col)),importances,align='center')\n",
    "plt.yticks(range(len(x_col)),x_col)\n",
    "plt.xlabel('Relative Importance in the Random Forest')\n",
    "plt.ylabel('Features')\n",
    "plt.title('Relative importance of Each Feature')\n",
    "plt.show()"
   ]
  },
  {
   "cell_type": "code",
   "execution_count": 15,
   "metadata": {
    "collapsed": true
   },
   "outputs": [],
   "source": [
    "STANDARDIZABLE = list(x_col)"
   ]
  },
  {
   "cell_type": "code",
   "execution_count": 16,
   "metadata": {
    "collapsed": true
   },
   "outputs": [],
   "source": [
    "from sklearn.cross_validation import train_test_split\n",
    "itrain, itest = train_test_split(xrange(dftouse.shape[0]), train_size=0.7)\n",
    "\n",
    "mask=np.ones(dftouse.shape[0], dtype='int')\n",
    "mask[itrain]=1\n",
    "mask[itest]=0\n",
    "mask = (mask==1)"
   ]
  },
  {
   "cell_type": "code",
   "execution_count": 17,
   "metadata": {
    "collapsed": true
   },
   "outputs": [],
   "source": [
    "#your code here\n",
    "#find a matrix of each row of the data that we want to standardize\n",
    "temp_dftouse = dftouse[STANDARDIZABLE]\n",
    "train_temp_dftouse = temp_dftouse[mask == 1]\n",
    "matrix = train_temp_dftouse.values\n",
    "\n",
    "#use sklearn.preprocessing.StandardScaler to transform both training and test parts of each column\n",
    "from sklearn.preprocessing import StandardScaler\n",
    "scaler = StandardScaler().fit(matrix)\n",
    "array = scaler.transform(temp_dftouse)\n",
    "newdf = pd.DataFrame(dict(zip(STANDARDIZABLE,array.transpose())))\n",
    "\n",
    "#replace old columns with new standardized columns\n",
    "for colname in STANDARDIZABLE:\n",
    "    dftouse[colname] = newdf[colname]"
   ]
  },
  {
   "cell_type": "code",
   "execution_count": 20,
   "metadata": {
    "collapsed": false
   },
   "outputs": [
    {
     "name": "stdout",
     "output_type": "stream",
     "text": [
      "17\n"
     ]
    }
   ],
   "source": [
    "lcols = list(dftouse.columns)\n",
    "lcols.remove('win')\n",
    "print len(lcols)"
   ]
  },
  {
   "cell_type": "code",
   "execution_count": 21,
   "metadata": {
    "collapsed": false
   },
   "outputs": [
    {
     "data": {
      "text/html": [
       "<div>\n",
       "<table border=\"1\" class=\"dataframe\">\n",
       "  <thead>\n",
       "    <tr style=\"text-align: right;\">\n",
       "      <th></th>\n",
       "      <th>diffbaron</th>\n",
       "      <th>diffcc</th>\n",
       "      <th>diffcs</th>\n",
       "      <th>diffdmg</th>\n",
       "      <th>diffdrag</th>\n",
       "      <th>diffgold</th>\n",
       "      <th>diffinhib</th>\n",
       "      <th>diffkda</th>\n",
       "      <th>diffrange</th>\n",
       "      <th>diffspree</th>\n",
       "      <th>difftank</th>\n",
       "      <th>diffturr</th>\n",
       "      <th>fbaron</th>\n",
       "      <th>fblood</th>\n",
       "      <th>fdrag</th>\n",
       "      <th>finhib</th>\n",
       "      <th>fturret</th>\n",
       "      <th>win</th>\n",
       "    </tr>\n",
       "  </thead>\n",
       "  <tbody>\n",
       "    <tr>\n",
       "      <th>0</th>\n",
       "      <td>1.011636</td>\n",
       "      <td>0.429249</td>\n",
       "      <td>1.616672</td>\n",
       "      <td>0.823219</td>\n",
       "      <td>1.487629</td>\n",
       "      <td>1.480421</td>\n",
       "      <td>1.121227</td>\n",
       "      <td>0.748495</td>\n",
       "      <td>-0.851383</td>\n",
       "      <td>1.297840</td>\n",
       "      <td>0.000274</td>\n",
       "      <td>1.454695</td>\n",
       "      <td>1.433232</td>\n",
       "      <td>-0.995770</td>\n",
       "      <td>1.133283</td>\n",
       "      <td>1.188966</td>\n",
       "      <td>-1.003680</td>\n",
       "      <td>True</td>\n",
       "    </tr>\n",
       "    <tr>\n",
       "      <th>1</th>\n",
       "      <td>1.011636</td>\n",
       "      <td>-0.348307</td>\n",
       "      <td>0.356804</td>\n",
       "      <td>-1.020311</td>\n",
       "      <td>0.116698</td>\n",
       "      <td>-0.833889</td>\n",
       "      <td>-1.080401</td>\n",
       "      <td>-0.726543</td>\n",
       "      <td>0.870726</td>\n",
       "      <td>-1.733672</td>\n",
       "      <td>0.968832</td>\n",
       "      <td>-0.677989</td>\n",
       "      <td>1.433232</td>\n",
       "      <td>-0.995770</td>\n",
       "      <td>1.133283</td>\n",
       "      <td>-0.841067</td>\n",
       "      <td>-1.003680</td>\n",
       "      <td>False</td>\n",
       "    </tr>\n",
       "    <tr>\n",
       "      <th>2</th>\n",
       "      <td>-0.867600</td>\n",
       "      <td>0.346013</td>\n",
       "      <td>0.279865</td>\n",
       "      <td>-0.225865</td>\n",
       "      <td>0.116698</td>\n",
       "      <td>-0.860771</td>\n",
       "      <td>-1.080401</td>\n",
       "      <td>-0.776639</td>\n",
       "      <td>0.870726</td>\n",
       "      <td>-0.723168</td>\n",
       "      <td>0.968832</td>\n",
       "      <td>-1.033436</td>\n",
       "      <td>-0.697724</td>\n",
       "      <td>1.004248</td>\n",
       "      <td>1.133283</td>\n",
       "      <td>-0.841067</td>\n",
       "      <td>0.996333</td>\n",
       "      <td>False</td>\n",
       "    </tr>\n",
       "    <tr>\n",
       "      <th>3</th>\n",
       "      <td>-0.867600</td>\n",
       "      <td>-0.169428</td>\n",
       "      <td>-1.095412</td>\n",
       "      <td>-0.367563</td>\n",
       "      <td>-0.797256</td>\n",
       "      <td>-1.332159</td>\n",
       "      <td>-1.080401</td>\n",
       "      <td>-0.626855</td>\n",
       "      <td>0.870726</td>\n",
       "      <td>-1.481046</td>\n",
       "      <td>0.000274</td>\n",
       "      <td>-1.211160</td>\n",
       "      <td>-0.697724</td>\n",
       "      <td>-0.995770</td>\n",
       "      <td>-0.882392</td>\n",
       "      <td>-0.841067</td>\n",
       "      <td>-1.003680</td>\n",
       "      <td>False</td>\n",
       "    </tr>\n",
       "    <tr>\n",
       "      <th>4</th>\n",
       "      <td>0.072018</td>\n",
       "      <td>0.396678</td>\n",
       "      <td>1.683994</td>\n",
       "      <td>0.615632</td>\n",
       "      <td>0.116698</td>\n",
       "      <td>1.018816</td>\n",
       "      <td>0.570820</td>\n",
       "      <td>1.053632</td>\n",
       "      <td>0.009671</td>\n",
       "      <td>0.792588</td>\n",
       "      <td>2.905948</td>\n",
       "      <td>0.921524</td>\n",
       "      <td>-0.697724</td>\n",
       "      <td>-0.995770</td>\n",
       "      <td>-0.882392</td>\n",
       "      <td>1.188966</td>\n",
       "      <td>0.996333</td>\n",
       "      <td>True</td>\n",
       "    </tr>\n",
       "  </tbody>\n",
       "</table>\n",
       "</div>"
      ],
      "text/plain": [
       "   diffbaron    diffcc    diffcs   diffdmg  diffdrag  diffgold  diffinhib   diffkda  diffrange  diffspree  difftank  diffturr    fbaron    fblood     fdrag    finhib   fturret    win\n",
       "0   1.011636  0.429249  1.616672  0.823219  1.487629  1.480421   1.121227  0.748495  -0.851383   1.297840  0.000274  1.454695  1.433232 -0.995770  1.133283  1.188966 -1.003680   True\n",
       "1   1.011636 -0.348307  0.356804 -1.020311  0.116698 -0.833889  -1.080401 -0.726543   0.870726  -1.733672  0.968832 -0.677989  1.433232 -0.995770  1.133283 -0.841067 -1.003680  False\n",
       "2  -0.867600  0.346013  0.279865 -0.225865  0.116698 -0.860771  -1.080401 -0.776639   0.870726  -0.723168  0.968832 -1.033436 -0.697724  1.004248  1.133283 -0.841067  0.996333  False\n",
       "3  -0.867600 -0.169428 -1.095412 -0.367563 -0.797256 -1.332159  -1.080401 -0.626855   0.870726  -1.481046  0.000274 -1.211160 -0.697724 -0.995770 -0.882392 -0.841067 -1.003680  False\n",
       "4   0.072018  0.396678  1.683994  0.615632  0.116698  1.018816   0.570820  1.053632   0.009671   0.792588  2.905948  0.921524 -0.697724 -0.995770 -0.882392  1.188966  0.996333   True"
      ]
     },
     "execution_count": 21,
     "metadata": {},
     "output_type": "execute_result"
    }
   ],
   "source": [
    "dftouse.head()"
   ]
  },
  {
   "cell_type": "code",
   "execution_count": 22,
   "metadata": {
    "collapsed": true
   },
   "outputs": [],
   "source": [
    "from sklearn.svm import LinearSVC\n",
    "\n",
    "clfsvm=LinearSVC(loss=\"hinge\")\n",
    "Cs=[0.001, 0.01, 0.1, 1.0, 10.0, 100.0]\n",
    "Xmatrix=dftouse[lcols].values\n",
    "Yresp=dftouse['win'].values\n",
    "\n",
    "Xmatrix_train=Xmatrix[mask]\n",
    "Xmatrix_test=Xmatrix[~mask]\n",
    "Yresp_train=Yresp[mask]\n",
    "Yresp_test=Yresp[~mask]"
   ]
  },
  {
   "cell_type": "code",
   "execution_count": 23,
   "metadata": {
    "collapsed": false
   },
   "outputs": [
    {
     "name": "stdout",
     "output_type": "stream",
     "text": [
      "best C value: {'C': 0.1}\n"
     ]
    }
   ],
   "source": [
    "#your code here\n",
    "from sklearn.grid_search import GridSearchCV\n",
    "gs = GridSearchCV(estimator=clfsvm,param_grid={'C':Cs},cv=5).fit(Xmatrix_train,Yresp_train)\n",
    "\n",
    "print 'best C value:', gs.best_params_\n",
    "best = gs.best_estimator_\n",
    "clf = best.fit(Xmatrix_train,Yresp_train)"
   ]
  },
  {
   "cell_type": "code",
   "execution_count": 24,
   "metadata": {
    "collapsed": false
   },
   "outputs": [
    {
     "name": "stdout",
     "output_type": "stream",
     "text": [
      "DEFAULT CLASSIFIER\n",
      "accuracy: 0.988768013563\n",
      "\n",
      "BEST CLASSIFIER\n",
      "accuracy: 0.988979937836\n"
     ]
    }
   ],
   "source": [
    "#calculate the accuracy here\n",
    "#your code here\n",
    "train_acc = gs.best_score_\n",
    "train_acc2 = clf.score(Xmatrix_train,Yresp_train)\n",
    "\n",
    "print 'DEFAULT CLASSIFIER'\n",
    "print 'accuracy:', train_acc\n",
    "print ''\n",
    "print 'BEST CLASSIFIER'\n",
    "print 'accuracy:', train_acc2"
   ]
  },
  {
   "cell_type": "code",
   "execution_count": 25,
   "metadata": {
    "collapsed": true
   },
   "outputs": [],
   "source": [
    "#your code here\n",
    "def cv_optimize(clf, parameters, X, y, n_folds=5, score_func=None):\n",
    "    if score_func:\n",
    "        gs = GridSearchCV(clf, param_grid=parameters, cv=n_folds, scoring=score_func)\n",
    "    else:\n",
    "        gs = GridSearchCV(clf, param_grid=parameters, cv=n_folds)\n",
    "    gs.fit(X, y)\n",
    "    best = gs.best_estimator_\n",
    "    return best"
   ]
  },
  {
   "cell_type": "code",
   "execution_count": 28,
   "metadata": {
    "collapsed": true
   },
   "outputs": [],
   "source": [
    "from sklearn.metrics import confusion_matrix\n",
    "def do_classify(clf, parameters, indf, featurenames, targetname, target1val, mask=None, reuse_split=None, score_func=None, n_folds=5):\n",
    "    subdf=indf[featurenames]\n",
    "    X=subdf.values\n",
    "    y=(indf[targetname].values==target1val)*1\n",
    "    if mask !=None:\n",
    "        print \"using mask\"\n",
    "        Xtrain, Xtest, ytrain, ytest = X[mask], X[~mask], y[mask], y[~mask]\n",
    "    if reuse_split !=None:\n",
    "        print \"using reuse split\"\n",
    "        Xtrain, Xtest, ytrain, ytest = reuse_split['Xtrain'], reuse_split['Xtest'], reuse_split['ytrain'], reuse_split['ytest']\n",
    "    if parameters:\n",
    "        clf = cv_optimize(clf, parameters, Xtrain, ytrain, n_folds=n_folds, score_func=score_func)\n",
    "    clf=clf.fit(Xtrain, ytrain)\n",
    "    training_accuracy = clf.score(Xtrain, ytrain)\n",
    "    test_accuracy = clf.score(Xtest, ytest)\n",
    "    print \"############# based on standard predict ################\"\n",
    "    print \"Accuracy on training data: %0.2f\" % (training_accuracy)\n",
    "    print \"Accuracy on test data:     %0.2f\" % (test_accuracy)\n",
    "    print confusion_matrix(ytest, clf.predict(Xtest))\n",
    "    print \"########################################################\"\n",
    "    return clf, Xtrain, ytrain, Xtest, ytest"
   ]
  },
  {
   "cell_type": "code",
   "execution_count": 29,
   "metadata": {
    "collapsed": false
   },
   "outputs": [
    {
     "name": "stdout",
     "output_type": "stream",
     "text": [
      "using mask\n",
      "############# based on standard predict ################\n",
      "Accuracy on training data: 0.99\n",
      "Accuracy on test data:     0.98\n",
      "[[3113   46]\n",
      " [  51 2857]]\n",
      "########################################################\n"
     ]
    },
    {
     "name": "stderr",
     "output_type": "stream",
     "text": [
      "C:\\Users\\Andy\\Anaconda2\\lib\\site-packages\\ipykernel\\__main__.py:6: FutureWarning: comparison to `None` will result in an elementwise object comparison in the future.\n"
     ]
    }
   ],
   "source": [
    "clfsvm, Xtrain, ytrain, Xtest, ytest = do_classify(LinearSVC(loss=\"hinge\"), {\"C\": [0.001, 0.01, 0.1, 1.0, 10.0, 100.0]}, dftouse,lcols, 'win',1, mask=mask)"
   ]
  },
  {
   "cell_type": "code",
   "execution_count": 31,
   "metadata": {
    "collapsed": false
   },
   "outputs": [],
   "source": [
    "import statsmodels.api as sm\n",
    "from statsmodels.formula.api import glm, ols"
   ]
  },
  {
   "cell_type": "code",
   "execution_count": 32,
   "metadata": {
    "collapsed": false
   },
   "outputs": [
    {
     "data": {
      "text/html": [
       "<div>\n",
       "<table border=\"1\" class=\"dataframe\">\n",
       "  <thead>\n",
       "    <tr style=\"text-align: right;\">\n",
       "      <th></th>\n",
       "      <th>diffbaron</th>\n",
       "      <th>diffcc</th>\n",
       "      <th>diffcs</th>\n",
       "      <th>diffdmg</th>\n",
       "      <th>diffdrag</th>\n",
       "      <th>diffgold</th>\n",
       "      <th>diffinhib</th>\n",
       "      <th>diffkda</th>\n",
       "      <th>diffrange</th>\n",
       "      <th>diffspree</th>\n",
       "      <th>difftank</th>\n",
       "      <th>diffturr</th>\n",
       "      <th>fbaron</th>\n",
       "      <th>fblood</th>\n",
       "      <th>fdrag</th>\n",
       "      <th>finhib</th>\n",
       "      <th>fturret</th>\n",
       "      <th>win</th>\n",
       "    </tr>\n",
       "  </thead>\n",
       "  <tbody>\n",
       "    <tr>\n",
       "      <th>0</th>\n",
       "      <td>1.011636</td>\n",
       "      <td>0.429249</td>\n",
       "      <td>1.616672</td>\n",
       "      <td>0.823219</td>\n",
       "      <td>1.487629</td>\n",
       "      <td>1.480421</td>\n",
       "      <td>1.121227</td>\n",
       "      <td>0.748495</td>\n",
       "      <td>-0.851383</td>\n",
       "      <td>1.297840</td>\n",
       "      <td>0.000274</td>\n",
       "      <td>1.454695</td>\n",
       "      <td>1.433232</td>\n",
       "      <td>-0.995770</td>\n",
       "      <td>1.133283</td>\n",
       "      <td>1.188966</td>\n",
       "      <td>-1.003680</td>\n",
       "      <td>True</td>\n",
       "    </tr>\n",
       "    <tr>\n",
       "      <th>1</th>\n",
       "      <td>1.011636</td>\n",
       "      <td>-0.348307</td>\n",
       "      <td>0.356804</td>\n",
       "      <td>-1.020311</td>\n",
       "      <td>0.116698</td>\n",
       "      <td>-0.833889</td>\n",
       "      <td>-1.080401</td>\n",
       "      <td>-0.726543</td>\n",
       "      <td>0.870726</td>\n",
       "      <td>-1.733672</td>\n",
       "      <td>0.968832</td>\n",
       "      <td>-0.677989</td>\n",
       "      <td>1.433232</td>\n",
       "      <td>-0.995770</td>\n",
       "      <td>1.133283</td>\n",
       "      <td>-0.841067</td>\n",
       "      <td>-1.003680</td>\n",
       "      <td>False</td>\n",
       "    </tr>\n",
       "    <tr>\n",
       "      <th>2</th>\n",
       "      <td>-0.867600</td>\n",
       "      <td>0.346013</td>\n",
       "      <td>0.279865</td>\n",
       "      <td>-0.225865</td>\n",
       "      <td>0.116698</td>\n",
       "      <td>-0.860771</td>\n",
       "      <td>-1.080401</td>\n",
       "      <td>-0.776639</td>\n",
       "      <td>0.870726</td>\n",
       "      <td>-0.723168</td>\n",
       "      <td>0.968832</td>\n",
       "      <td>-1.033436</td>\n",
       "      <td>-0.697724</td>\n",
       "      <td>1.004248</td>\n",
       "      <td>1.133283</td>\n",
       "      <td>-0.841067</td>\n",
       "      <td>0.996333</td>\n",
       "      <td>False</td>\n",
       "    </tr>\n",
       "    <tr>\n",
       "      <th>3</th>\n",
       "      <td>-0.867600</td>\n",
       "      <td>-0.169428</td>\n",
       "      <td>-1.095412</td>\n",
       "      <td>-0.367563</td>\n",
       "      <td>-0.797256</td>\n",
       "      <td>-1.332159</td>\n",
       "      <td>-1.080401</td>\n",
       "      <td>-0.626855</td>\n",
       "      <td>0.870726</td>\n",
       "      <td>-1.481046</td>\n",
       "      <td>0.000274</td>\n",
       "      <td>-1.211160</td>\n",
       "      <td>-0.697724</td>\n",
       "      <td>-0.995770</td>\n",
       "      <td>-0.882392</td>\n",
       "      <td>-0.841067</td>\n",
       "      <td>-1.003680</td>\n",
       "      <td>False</td>\n",
       "    </tr>\n",
       "    <tr>\n",
       "      <th>4</th>\n",
       "      <td>0.072018</td>\n",
       "      <td>0.396678</td>\n",
       "      <td>1.683994</td>\n",
       "      <td>0.615632</td>\n",
       "      <td>0.116698</td>\n",
       "      <td>1.018816</td>\n",
       "      <td>0.570820</td>\n",
       "      <td>1.053632</td>\n",
       "      <td>0.009671</td>\n",
       "      <td>0.792588</td>\n",
       "      <td>2.905948</td>\n",
       "      <td>0.921524</td>\n",
       "      <td>-0.697724</td>\n",
       "      <td>-0.995770</td>\n",
       "      <td>-0.882392</td>\n",
       "      <td>1.188966</td>\n",
       "      <td>0.996333</td>\n",
       "      <td>True</td>\n",
       "    </tr>\n",
       "  </tbody>\n",
       "</table>\n",
       "</div>"
      ],
      "text/plain": [
       "   diffbaron    diffcc    diffcs   diffdmg  diffdrag  diffgold  diffinhib   diffkda  diffrange  diffspree  difftank  diffturr    fbaron    fblood     fdrag    finhib   fturret    win\n",
       "0   1.011636  0.429249  1.616672  0.823219  1.487629  1.480421   1.121227  0.748495  -0.851383   1.297840  0.000274  1.454695  1.433232 -0.995770  1.133283  1.188966 -1.003680   True\n",
       "1   1.011636 -0.348307  0.356804 -1.020311  0.116698 -0.833889  -1.080401 -0.726543   0.870726  -1.733672  0.968832 -0.677989  1.433232 -0.995770  1.133283 -0.841067 -1.003680  False\n",
       "2  -0.867600  0.346013  0.279865 -0.225865  0.116698 -0.860771  -1.080401 -0.776639   0.870726  -0.723168  0.968832 -1.033436 -0.697724  1.004248  1.133283 -0.841067  0.996333  False\n",
       "3  -0.867600 -0.169428 -1.095412 -0.367563 -0.797256 -1.332159  -1.080401 -0.626855   0.870726  -1.481046  0.000274 -1.211160 -0.697724 -0.995770 -0.882392 -0.841067 -1.003680  False\n",
       "4   0.072018  0.396678  1.683994  0.615632  0.116698  1.018816   0.570820  1.053632   0.009671   0.792588  2.905948  0.921524 -0.697724 -0.995770 -0.882392  1.188966  0.996333   True"
      ]
     },
     "execution_count": 32,
     "metadata": {},
     "output_type": "execute_result"
    }
   ],
   "source": [
    "dftouse.head()"
   ]
  },
  {
   "cell_type": "code",
   "execution_count": 34,
   "metadata": {
    "collapsed": false
   },
   "outputs": [
    {
     "ename": "ValueError",
     "evalue": "For numerical factors, num_columns must be an int",
     "output_type": "error",
     "traceback": [
      "\u001b[1;31m---------------------------------------------------------------------------\u001b[0m",
      "\u001b[1;31mValueError\u001b[0m                                Traceback (most recent call last)",
      "\u001b[1;32m<ipython-input-34-e95598aaa1f4>\u001b[0m in \u001b[0;36m<module>\u001b[1;34m()\u001b[0m\n\u001b[0;32m      1\u001b[0m \u001b[0mformula\u001b[0m \u001b[1;33m=\u001b[0m \u001b[1;34m'win ~ diffbaron + diffcc + diffcs + diffdmg + diffdrag + diffgold + diffinhib + diffkda + diffrange + diffspree + difftank + diffturr + fbaron + fblood + fdrag + finhib + fturret'\u001b[0m\u001b[1;33m\u001b[0m\u001b[0m\n\u001b[1;32m----> 2\u001b[1;33m \u001b[0mols_model\u001b[0m \u001b[1;33m=\u001b[0m \u001b[0mols\u001b[0m\u001b[1;33m(\u001b[0m\u001b[0mformula\u001b[0m\u001b[1;33m,\u001b[0m \u001b[0mdftouse\u001b[0m\u001b[1;33m)\u001b[0m\u001b[1;33m.\u001b[0m\u001b[0mfit\u001b[0m\u001b[1;33m(\u001b[0m\u001b[1;33m)\u001b[0m\u001b[1;33m\u001b[0m\u001b[0m\n\u001b[0m\u001b[0;32m      3\u001b[0m \u001b[0mols_model\u001b[0m\u001b[1;33m.\u001b[0m\u001b[0msummary\u001b[0m\u001b[1;33m(\u001b[0m\u001b[1;33m)\u001b[0m\u001b[1;33m\u001b[0m\u001b[0m\n",
      "\u001b[1;32mC:\\Users\\Andy\\Anaconda2\\lib\\site-packages\\statsmodels\\base\\model.py\u001b[0m in \u001b[0;36mfrom_formula\u001b[1;34m(cls, formula, data, subset, *args, **kwargs)\u001b[0m\n\u001b[0;32m    145\u001b[0m         (endog, exog), missing_idx = handle_formula_data(data, None, formula,\n\u001b[0;32m    146\u001b[0m                                                          \u001b[0mdepth\u001b[0m\u001b[1;33m=\u001b[0m\u001b[0meval_env\u001b[0m\u001b[1;33m,\u001b[0m\u001b[1;33m\u001b[0m\u001b[0m\n\u001b[1;32m--> 147\u001b[1;33m                                                          missing=missing)\n\u001b[0m\u001b[0;32m    148\u001b[0m         kwargs.update({'missing_idx': missing_idx,\n\u001b[0;32m    149\u001b[0m                        'missing': missing})\n",
      "\u001b[1;32mC:\\Users\\Andy\\Anaconda2\\lib\\site-packages\\statsmodels\\formula\\formulatools.py\u001b[0m in \u001b[0;36mhandle_formula_data\u001b[1;34m(Y, X, formula, depth, missing)\u001b[0m\n\u001b[0;32m     63\u001b[0m         \u001b[1;32mif\u001b[0m \u001b[0mdata_util\u001b[0m\u001b[1;33m.\u001b[0m\u001b[0m_is_using_pandas\u001b[0m\u001b[1;33m(\u001b[0m\u001b[0mY\u001b[0m\u001b[1;33m,\u001b[0m \u001b[0mNone\u001b[0m\u001b[1;33m)\u001b[0m\u001b[1;33m:\u001b[0m\u001b[1;33m\u001b[0m\u001b[0m\n\u001b[0;32m     64\u001b[0m             result = dmatrices(formula, Y, depth, return_type='dataframe',\n\u001b[1;32m---> 65\u001b[1;33m                                NA_action=na_action)\n\u001b[0m\u001b[0;32m     66\u001b[0m         \u001b[1;32melse\u001b[0m\u001b[1;33m:\u001b[0m\u001b[1;33m\u001b[0m\u001b[0m\n\u001b[0;32m     67\u001b[0m             result = dmatrices(formula, Y, depth, return_type='dataframe',\n",
      "\u001b[1;32mC:\\Users\\Andy\\Anaconda2\\lib\\site-packages\\patsy\\highlevel.py\u001b[0m in \u001b[0;36mdmatrices\u001b[1;34m(formula_like, data, eval_env, NA_action, return_type)\u001b[0m\n\u001b[0;32m    295\u001b[0m     \u001b[0meval_env\u001b[0m \u001b[1;33m=\u001b[0m \u001b[0mEvalEnvironment\u001b[0m\u001b[1;33m.\u001b[0m\u001b[0mcapture\u001b[0m\u001b[1;33m(\u001b[0m\u001b[0meval_env\u001b[0m\u001b[1;33m,\u001b[0m \u001b[0mreference\u001b[0m\u001b[1;33m=\u001b[0m\u001b[1;36m1\u001b[0m\u001b[1;33m)\u001b[0m\u001b[1;33m\u001b[0m\u001b[0m\n\u001b[0;32m    296\u001b[0m     (lhs, rhs) = _do_highlevel_design(formula_like, data, eval_env,\n\u001b[1;32m--> 297\u001b[1;33m                                       NA_action, return_type)\n\u001b[0m\u001b[0;32m    298\u001b[0m     \u001b[1;32mif\u001b[0m \u001b[0mlhs\u001b[0m\u001b[1;33m.\u001b[0m\u001b[0mshape\u001b[0m\u001b[1;33m[\u001b[0m\u001b[1;36m1\u001b[0m\u001b[1;33m]\u001b[0m \u001b[1;33m==\u001b[0m \u001b[1;36m0\u001b[0m\u001b[1;33m:\u001b[0m\u001b[1;33m\u001b[0m\u001b[0m\n\u001b[0;32m    299\u001b[0m         \u001b[1;32mraise\u001b[0m \u001b[0mPatsyError\u001b[0m\u001b[1;33m(\u001b[0m\u001b[1;34m\"model is missing required outcome variables\"\u001b[0m\u001b[1;33m)\u001b[0m\u001b[1;33m\u001b[0m\u001b[0m\n",
      "\u001b[1;32mC:\\Users\\Andy\\Anaconda2\\lib\\site-packages\\patsy\\highlevel.py\u001b[0m in \u001b[0;36m_do_highlevel_design\u001b[1;34m(formula_like, data, eval_env, NA_action, return_type)\u001b[0m\n\u001b[0;32m    150\u001b[0m         \u001b[1;32mreturn\u001b[0m \u001b[0miter\u001b[0m\u001b[1;33m(\u001b[0m\u001b[1;33m[\u001b[0m\u001b[0mdata\u001b[0m\u001b[1;33m]\u001b[0m\u001b[1;33m)\u001b[0m\u001b[1;33m\u001b[0m\u001b[0m\n\u001b[0;32m    151\u001b[0m     design_infos = _try_incr_builders(formula_like, data_iter_maker, eval_env,\n\u001b[1;32m--> 152\u001b[1;33m                                       NA_action)\n\u001b[0m\u001b[0;32m    153\u001b[0m     \u001b[1;32mif\u001b[0m \u001b[0mdesign_infos\u001b[0m \u001b[1;32mis\u001b[0m \u001b[1;32mnot\u001b[0m \u001b[0mNone\u001b[0m\u001b[1;33m:\u001b[0m\u001b[1;33m\u001b[0m\u001b[0m\n\u001b[0;32m    154\u001b[0m         return build_design_matrices(design_infos, data,\n",
      "\u001b[1;32mC:\\Users\\Andy\\Anaconda2\\lib\\site-packages\\patsy\\highlevel.py\u001b[0m in \u001b[0;36m_try_incr_builders\u001b[1;34m(formula_like, data_iter_maker, eval_env, NA_action)\u001b[0m\n\u001b[0;32m     55\u001b[0m                                       \u001b[0mdata_iter_maker\u001b[0m\u001b[1;33m,\u001b[0m\u001b[1;33m\u001b[0m\u001b[0m\n\u001b[0;32m     56\u001b[0m                                       \u001b[0meval_env\u001b[0m\u001b[1;33m,\u001b[0m\u001b[1;33m\u001b[0m\u001b[0m\n\u001b[1;32m---> 57\u001b[1;33m                                       NA_action)\n\u001b[0m\u001b[0;32m     58\u001b[0m     \u001b[1;32melse\u001b[0m\u001b[1;33m:\u001b[0m\u001b[1;33m\u001b[0m\u001b[0m\n\u001b[0;32m     59\u001b[0m         \u001b[1;32mreturn\u001b[0m \u001b[0mNone\u001b[0m\u001b[1;33m\u001b[0m\u001b[0m\n",
      "\u001b[1;32mC:\\Users\\Andy\\Anaconda2\\lib\\site-packages\\patsy\\build.py\u001b[0m in \u001b[0;36mdesign_matrix_builders\u001b[1;34m(termlists, data_iter_maker, eval_env, NA_action)\u001b[0m\n\u001b[0;32m    704\u001b[0m                             \u001b[0mfactor_states\u001b[0m\u001b[1;33m[\u001b[0m\u001b[0mfactor\u001b[0m\u001b[1;33m]\u001b[0m\u001b[1;33m,\u001b[0m\u001b[1;33m\u001b[0m\u001b[0m\n\u001b[0;32m    705\u001b[0m                             \u001b[0mnum_columns\u001b[0m\u001b[1;33m=\u001b[0m\u001b[0mnum_column_counts\u001b[0m\u001b[1;33m[\u001b[0m\u001b[0mfactor\u001b[0m\u001b[1;33m]\u001b[0m\u001b[1;33m,\u001b[0m\u001b[1;33m\u001b[0m\u001b[0m\n\u001b[1;32m--> 706\u001b[1;33m                             categories=None)\n\u001b[0m\u001b[0;32m    707\u001b[0m         \u001b[1;32melse\u001b[0m\u001b[1;33m:\u001b[0m\u001b[1;33m\u001b[0m\u001b[0m\n\u001b[0;32m    708\u001b[0m             \u001b[1;32massert\u001b[0m \u001b[0mfactor\u001b[0m \u001b[1;32min\u001b[0m \u001b[0mcat_levels_contrasts\u001b[0m\u001b[1;33m\u001b[0m\u001b[0m\n",
      "\u001b[1;32mC:\\Users\\Andy\\Anaconda2\\lib\\site-packages\\patsy\\design_info.py\u001b[0m in \u001b[0;36m__init__\u001b[1;34m(self, factor, type, state, num_columns, categories)\u001b[0m\n\u001b[0;32m     86\u001b[0m         \u001b[1;32mif\u001b[0m \u001b[0mself\u001b[0m\u001b[1;33m.\u001b[0m\u001b[0mtype\u001b[0m \u001b[1;33m==\u001b[0m \u001b[1;34m\"numerical\"\u001b[0m\u001b[1;33m:\u001b[0m\u001b[1;33m\u001b[0m\u001b[0m\n\u001b[0;32m     87\u001b[0m             \u001b[1;32mif\u001b[0m \u001b[1;32mnot\u001b[0m \u001b[0misinstance\u001b[0m\u001b[1;33m(\u001b[0m\u001b[0mnum_columns\u001b[0m\u001b[1;33m,\u001b[0m \u001b[0mint\u001b[0m\u001b[1;33m)\u001b[0m\u001b[1;33m:\u001b[0m\u001b[1;33m\u001b[0m\u001b[0m\n\u001b[1;32m---> 88\u001b[1;33m                 raise ValueError(\"For numerical factors, num_columns \"\n\u001b[0m\u001b[0;32m     89\u001b[0m                                  \"must be an int\")\n\u001b[0;32m     90\u001b[0m             \u001b[1;32mif\u001b[0m \u001b[0mcategories\u001b[0m \u001b[1;32mis\u001b[0m \u001b[1;32mnot\u001b[0m \u001b[0mNone\u001b[0m\u001b[1;33m:\u001b[0m\u001b[1;33m\u001b[0m\u001b[0m\n",
      "\u001b[1;31mValueError\u001b[0m: For numerical factors, num_columns must be an int"
     ]
    }
   ],
   "source": [
    "formula = 'win ~ diffbaron + diffcc + diffcs + diffdmg + diffdrag + diffgold + diffinhib + diffkda + diffrange + diffspree + difftank + diffturr + fbaron + fblood + fdrag + finhib + fturret'\n",
    "ols_model = ols(formula, dftouse).fit()\n",
    "ols_model.summary()"
   ]
  }
 ],
 "metadata": {
  "kernelspec": {
   "display_name": "Python 2",
   "language": "python",
   "name": "python2"
  },
  "language_info": {
   "codemirror_mode": {
    "name": "ipython",
    "version": 2
   },
   "file_extension": ".py",
   "mimetype": "text/x-python",
   "name": "python",
   "nbconvert_exporter": "python",
   "pygments_lexer": "ipython2",
   "version": "2.7.10"
  }
 },
 "nbformat": 4,
 "nbformat_minor": 0
}
