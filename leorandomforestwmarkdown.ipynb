{
 "cells": [
  {
   "cell_type": "markdown",
   "metadata": {},
   "source": [
    "#Random Forest To Predict the Winner\n",
    "\n",
    "Given the data that we gathered from Riot's database, we wanted to figure out which features would be important to look at to predict the winning team. **Random Forest** is a useful tool to figure out how important each features were, based on how many decision trees they are found in. \n",
    "\n",
    "Random Forests is powerful because it is unexcelled in accuracy among current algorithms, runs efficiently on large data bases, and is able to give the relative importance of each variable that we are testing. \n"
   ]
  },
  {
   "cell_type": "code",
   "execution_count": 459,
   "metadata": {
    "collapsed": true
   },
   "outputs": [],
   "source": [
    "%matplotlib inline\n",
    "import numpy as np\n",
    "import scipy as sp\n",
    "import matplotlib as mpl\n",
    "import matplotlib.cm as cm\n",
    "import matplotlib.pyplot as plt\n",
    "import pandas as pd\n",
    "pd.set_option('display.width', 500)\n",
    "pd.set_option('display.max_columns', 100)\n",
    "pd.set_option('display.notebook_repr_html', True)\n",
    "import seaborn as sns\n",
    "sns.set_style(\"whitegrid\")\n",
    "sns.set_context(\"poster\")"
   ]
  },
  {
   "cell_type": "markdown",
   "metadata": {},
   "source": [
    "We've created a csv file using a package called 'Cassiopeia', which is used to query and parse through data we've obtained from Riot's database. We'll read in this csv file and create a **panda dataframe**. We'll print the head of the dataframe to see what we're working with.\n",
    "\n",
    "**LEO NOTE: I didn't use the newdf that you made Andy, just delete the part where I create a new dataframe without diffturr and diffinhib**"
   ]
  },
  {
   "cell_type": "code",
   "execution_count": 501,
   "metadata": {
    "collapsed": false
   },
   "outputs": [
    {
     "data": {
      "text/html": [
       "<div>\n",
       "<table border=\"1\" class=\"dataframe\">\n",
       "  <thead>\n",
       "    <tr style=\"text-align: right;\">\n",
       "      <th></th>\n",
       "      <th>diffbaron</th>\n",
       "      <th>diffcc</th>\n",
       "      <th>diffcs</th>\n",
       "      <th>diffdmg</th>\n",
       "      <th>diffdrag</th>\n",
       "      <th>diffgold</th>\n",
       "      <th>diffinhib</th>\n",
       "      <th>diffkda</th>\n",
       "      <th>diffrange</th>\n",
       "      <th>diffspree</th>\n",
       "      <th>difftank</th>\n",
       "      <th>diffturr</th>\n",
       "      <th>fbaron</th>\n",
       "      <th>fblood</th>\n",
       "      <th>fdrag</th>\n",
       "      <th>finhib</th>\n",
       "      <th>fturret</th>\n",
       "      <th>win</th>\n",
       "    </tr>\n",
       "  </thead>\n",
       "  <tbody>\n",
       "    <tr>\n",
       "      <th>0</th>\n",
       "      <td>1</td>\n",
       "      <td>819</td>\n",
       "      <td>155</td>\n",
       "      <td>17067</td>\n",
       "      <td>3</td>\n",
       "      <td>17703</td>\n",
       "      <td>2</td>\n",
       "      <td>18.144444</td>\n",
       "      <td>-1</td>\n",
       "      <td>5</td>\n",
       "      <td>0</td>\n",
       "      <td>8</td>\n",
       "      <td>True</td>\n",
       "      <td>False</td>\n",
       "      <td>True</td>\n",
       "      <td>True</td>\n",
       "      <td>False</td>\n",
       "      <td>True</td>\n",
       "    </tr>\n",
       "    <tr>\n",
       "      <th>1</th>\n",
       "      <td>1</td>\n",
       "      <td>-685</td>\n",
       "      <td>24</td>\n",
       "      <td>-23447</td>\n",
       "      <td>0</td>\n",
       "      <td>-11396</td>\n",
       "      <td>-2</td>\n",
       "      <td>-20.117208</td>\n",
       "      <td>1</td>\n",
       "      <td>-7</td>\n",
       "      <td>1</td>\n",
       "      <td>-4</td>\n",
       "      <td>True</td>\n",
       "      <td>False</td>\n",
       "      <td>True</td>\n",
       "      <td>False</td>\n",
       "      <td>False</td>\n",
       "      <td>False</td>\n",
       "    </tr>\n",
       "    <tr>\n",
       "      <th>2</th>\n",
       "      <td>-1</td>\n",
       "      <td>658</td>\n",
       "      <td>16</td>\n",
       "      <td>-5988</td>\n",
       "      <td>0</td>\n",
       "      <td>-11734</td>\n",
       "      <td>-2</td>\n",
       "      <td>-21.416667</td>\n",
       "      <td>1</td>\n",
       "      <td>-3</td>\n",
       "      <td>1</td>\n",
       "      <td>-6</td>\n",
       "      <td>False</td>\n",
       "      <td>True</td>\n",
       "      <td>True</td>\n",
       "      <td>False</td>\n",
       "      <td>True</td>\n",
       "      <td>False</td>\n",
       "    </tr>\n",
       "    <tr>\n",
       "      <th>3</th>\n",
       "      <td>-1</td>\n",
       "      <td>-339</td>\n",
       "      <td>-127</td>\n",
       "      <td>-9102</td>\n",
       "      <td>-2</td>\n",
       "      <td>-17661</td>\n",
       "      <td>-2</td>\n",
       "      <td>-17.531349</td>\n",
       "      <td>1</td>\n",
       "      <td>-6</td>\n",
       "      <td>0</td>\n",
       "      <td>-7</td>\n",
       "      <td>False</td>\n",
       "      <td>False</td>\n",
       "      <td>False</td>\n",
       "      <td>False</td>\n",
       "      <td>False</td>\n",
       "      <td>False</td>\n",
       "    </tr>\n",
       "    <tr>\n",
       "      <th>4</th>\n",
       "      <td>0</td>\n",
       "      <td>756</td>\n",
       "      <td>162</td>\n",
       "      <td>12505</td>\n",
       "      <td>0</td>\n",
       "      <td>11899</td>\n",
       "      <td>1</td>\n",
       "      <td>26.059524</td>\n",
       "      <td>0</td>\n",
       "      <td>3</td>\n",
       "      <td>3</td>\n",
       "      <td>5</td>\n",
       "      <td>False</td>\n",
       "      <td>False</td>\n",
       "      <td>False</td>\n",
       "      <td>True</td>\n",
       "      <td>True</td>\n",
       "      <td>True</td>\n",
       "    </tr>\n",
       "  </tbody>\n",
       "</table>\n",
       "</div>"
      ],
      "text/plain": [
       "   diffbaron  diffcc  diffcs  diffdmg  diffdrag  diffgold  diffinhib    diffkda  diffrange  diffspree  difftank  diffturr fbaron fblood  fdrag finhib fturret    win\n",
       "0          1     819     155    17067         3     17703          2  18.144444         -1          5         0         8   True  False   True   True   False   True\n",
       "1          1    -685      24   -23447         0    -11396         -2 -20.117208          1         -7         1        -4   True  False   True  False   False  False\n",
       "2         -1     658      16    -5988         0    -11734         -2 -21.416667          1         -3         1        -6  False   True   True  False    True  False\n",
       "3         -1    -339    -127    -9102        -2    -17661         -2 -17.531349          1         -6         0        -7  False  False  False  False   False  False\n",
       "4          0     756     162    12505         0     11899          1  26.059524          0          3         3         5  False  False  False   True    True   True"
      ]
     },
     "execution_count": 501,
     "metadata": {},
     "output_type": "execute_result"
    }
   ],
   "source": [
    "df = pd.read_csv('newdf.csv')\n",
    "df.head()"
   ]
  },
  {
   "cell_type": "code",
   "execution_count": 502,
   "metadata": {
    "collapsed": true
   },
   "outputs": [],
   "source": [
    "cols = list(df.columns)"
   ]
  },
  {
   "cell_type": "code",
   "execution_count": 503,
   "metadata": {
    "collapsed": false
   },
   "outputs": [
    {
     "name": "stdout",
     "output_type": "stream",
     "text": [
      "['diffbaron', 'diffcc', 'diffcs', 'diffdmg', 'diffdrag', 'diffgold', 'diffinhib', 'diffkda', 'diffrange', 'diffspree', 'difftank', 'diffturr', 'fbaron', 'fblood', 'fdrag', 'finhib', 'fturret', 'win']\n"
     ]
    }
   ],
   "source": [
    "print cols"
   ]
  },
  {
   "cell_type": "code",
   "execution_count": 504,
   "metadata": {
    "collapsed": false
   },
   "outputs": [],
   "source": [
    "#removing win conditions since they are bad variables\n",
    "cols.remove('diffturr')\n",
    "cols.remove('diffinhib')"
   ]
  },
  {
   "cell_type": "code",
   "execution_count": 505,
   "metadata": {
    "collapsed": false
   },
   "outputs": [
    {
     "data": {
      "text/html": [
       "<div>\n",
       "<table border=\"1\" class=\"dataframe\">\n",
       "  <thead>\n",
       "    <tr style=\"text-align: right;\">\n",
       "      <th></th>\n",
       "      <th>diffbaron</th>\n",
       "      <th>diffcc</th>\n",
       "      <th>diffcs</th>\n",
       "      <th>diffdmg</th>\n",
       "      <th>diffdrag</th>\n",
       "      <th>diffgold</th>\n",
       "      <th>diffkda</th>\n",
       "      <th>diffrange</th>\n",
       "      <th>diffspree</th>\n",
       "      <th>difftank</th>\n",
       "      <th>fbaron</th>\n",
       "      <th>fblood</th>\n",
       "      <th>fdrag</th>\n",
       "      <th>finhib</th>\n",
       "      <th>fturret</th>\n",
       "      <th>win</th>\n",
       "    </tr>\n",
       "  </thead>\n",
       "  <tbody>\n",
       "    <tr>\n",
       "      <th>0</th>\n",
       "      <td>1</td>\n",
       "      <td>819</td>\n",
       "      <td>155</td>\n",
       "      <td>17067</td>\n",
       "      <td>3</td>\n",
       "      <td>17703</td>\n",
       "      <td>18.144444</td>\n",
       "      <td>-1</td>\n",
       "      <td>5</td>\n",
       "      <td>0</td>\n",
       "      <td>True</td>\n",
       "      <td>False</td>\n",
       "      <td>True</td>\n",
       "      <td>True</td>\n",
       "      <td>False</td>\n",
       "      <td>True</td>\n",
       "    </tr>\n",
       "    <tr>\n",
       "      <th>1</th>\n",
       "      <td>1</td>\n",
       "      <td>-685</td>\n",
       "      <td>24</td>\n",
       "      <td>-23447</td>\n",
       "      <td>0</td>\n",
       "      <td>-11396</td>\n",
       "      <td>-20.117208</td>\n",
       "      <td>1</td>\n",
       "      <td>-7</td>\n",
       "      <td>1</td>\n",
       "      <td>True</td>\n",
       "      <td>False</td>\n",
       "      <td>True</td>\n",
       "      <td>False</td>\n",
       "      <td>False</td>\n",
       "      <td>False</td>\n",
       "    </tr>\n",
       "    <tr>\n",
       "      <th>2</th>\n",
       "      <td>-1</td>\n",
       "      <td>658</td>\n",
       "      <td>16</td>\n",
       "      <td>-5988</td>\n",
       "      <td>0</td>\n",
       "      <td>-11734</td>\n",
       "      <td>-21.416667</td>\n",
       "      <td>1</td>\n",
       "      <td>-3</td>\n",
       "      <td>1</td>\n",
       "      <td>False</td>\n",
       "      <td>True</td>\n",
       "      <td>True</td>\n",
       "      <td>False</td>\n",
       "      <td>True</td>\n",
       "      <td>False</td>\n",
       "    </tr>\n",
       "    <tr>\n",
       "      <th>3</th>\n",
       "      <td>-1</td>\n",
       "      <td>-339</td>\n",
       "      <td>-127</td>\n",
       "      <td>-9102</td>\n",
       "      <td>-2</td>\n",
       "      <td>-17661</td>\n",
       "      <td>-17.531349</td>\n",
       "      <td>1</td>\n",
       "      <td>-6</td>\n",
       "      <td>0</td>\n",
       "      <td>False</td>\n",
       "      <td>False</td>\n",
       "      <td>False</td>\n",
       "      <td>False</td>\n",
       "      <td>False</td>\n",
       "      <td>False</td>\n",
       "    </tr>\n",
       "    <tr>\n",
       "      <th>4</th>\n",
       "      <td>0</td>\n",
       "      <td>756</td>\n",
       "      <td>162</td>\n",
       "      <td>12505</td>\n",
       "      <td>0</td>\n",
       "      <td>11899</td>\n",
       "      <td>26.059524</td>\n",
       "      <td>0</td>\n",
       "      <td>3</td>\n",
       "      <td>3</td>\n",
       "      <td>False</td>\n",
       "      <td>False</td>\n",
       "      <td>False</td>\n",
       "      <td>True</td>\n",
       "      <td>True</td>\n",
       "      <td>True</td>\n",
       "    </tr>\n",
       "  </tbody>\n",
       "</table>\n",
       "</div>"
      ],
      "text/plain": [
       "   diffbaron  diffcc  diffcs  diffdmg  diffdrag  diffgold    diffkda  diffrange  diffspree  difftank fbaron fblood  fdrag finhib fturret    win\n",
       "0          1     819     155    17067         3     17703  18.144444         -1          5         0   True  False   True   True   False   True\n",
       "1          1    -685      24   -23447         0    -11396 -20.117208          1         -7         1   True  False   True  False   False  False\n",
       "2         -1     658      16    -5988         0    -11734 -21.416667          1         -3         1  False   True   True  False    True  False\n",
       "3         -1    -339    -127    -9102        -2    -17661 -17.531349          1         -6         0  False  False  False  False   False  False\n",
       "4          0     756     162    12505         0     11899  26.059524          0          3         3  False  False  False   True    True   True"
      ]
     },
     "execution_count": 505,
     "metadata": {},
     "output_type": "execute_result"
    }
   ],
   "source": [
    "dftouse = df[cols]\n",
    "dftouse.head()"
   ]
  },
  {
   "cell_type": "markdown",
   "metadata": {},
   "source": [
    "<span style = \"font-size: 1.5em;\">Getting on with the classifier</span>\n",
    "\n",
    "Now, let's get on with our random forest classifier.\n",
    "\n",
    "First we want to create mask values so we can split the dataframe into training and testing sets. To do that we import `train_test_split`, and create mask values."
   ]
  },
  {
   "cell_type": "code",
   "execution_count": 506,
   "metadata": {
    "collapsed": true
   },
   "outputs": [],
   "source": [
    "###Random forest classifier\n",
    "from sklearn.cross_validation import train_test_split\n",
    "itrain, itest = train_test_split(xrange(dftouse.shape[0]), train_size=0.75)"
   ]
  },
  {
   "cell_type": "code",
   "execution_count": 507,
   "metadata": {
    "collapsed": true
   },
   "outputs": [],
   "source": [
    "mask=np.ones(dftouse.shape[0], dtype='int')\n",
    "mask[itrain]=1\n",
    "mask[itest]=0\n",
    "mask = (mask==1)"
   ]
  },
  {
   "cell_type": "code",
   "execution_count": 508,
   "metadata": {
    "collapsed": false
   },
   "outputs": [
    {
     "data": {
      "text/plain": [
       "((20223,), 15167)"
      ]
     },
     "execution_count": 508,
     "metadata": {},
     "output_type": "execute_result"
    }
   ],
   "source": [
    "#seeing if it worked out correctly\n",
    "mask.shape, mask.sum()"
   ]
  },
  {
   "cell_type": "markdown",
   "metadata": {},
   "source": [
    "We define lcols to be the columns of the variables that we want to know about. We do this by creating a list of the our column names and then removing 'win' as that is the response variable."
   ]
  },
  {
   "cell_type": "code",
   "execution_count": 509,
   "metadata": {
    "collapsed": false
   },
   "outputs": [
    {
     "name": "stdout",
     "output_type": "stream",
     "text": [
      "['diffbaron', 'diffcc', 'diffcs', 'diffdmg', 'diffdrag', 'diffgold', 'diffkda', 'diffrange', 'diffspree', 'difftank', 'fbaron', 'fblood', 'fdrag', 'finhib', 'fturret']\n"
     ]
    }
   ],
   "source": [
    "#Now we will be using a Random Forest classifier to figure out which features are more \n",
    "#important in determining the probability of a team winning. First, we split the data set.\n",
    "\n",
    "#columns with values to fit as the X values\n",
    "lcols = list(dftouse.columns.values)\n",
    "#removing the win (y) response variables from the list\n",
    "lcols.remove('win')\n",
    "print(lcols)"
   ]
  },
  {
   "cell_type": "markdown",
   "metadata": {},
   "source": [
    "Don't forget to `import` the `RandomForestClassifier`!"
   ]
  },
  {
   "cell_type": "code",
   "execution_count": 510,
   "metadata": {
    "collapsed": true
   },
   "outputs": [],
   "source": [
    "from sklearn.ensemble import RandomForestClassifier"
   ]
  },
  {
   "cell_type": "markdown",
   "metadata": {},
   "source": [
    "First, we'll create a `RandomForestClassifier` with the default parameters that we can use to optimize later."
   ]
  },
  {
   "cell_type": "code",
   "execution_count": 511,
   "metadata": {
    "collapsed": true
   },
   "outputs": [],
   "source": [
    "clfForest = RandomForestClassifier()"
   ]
  },
  {
   "cell_type": "markdown",
   "metadata": {},
   "source": [
    "We define two functions: `cv_optimize` and `do_classify`, derived from pset3.\n",
    "\n",
    "`cv_optimize` takes in:\n",
    "* clf as the original classifer (which in our case is clfForest) \n",
    "* the parameters to search over (we will be optimizing the n_estimator parameter)\n",
    "* The X training matrix\n",
    "* The y training vector\n",
    "\n",
    "It returns the *best* parameter, according to the score.\n",
    "\n",
    "`do_classify` uses `cv_optimize` and outputs the **X training matrix, y training vector, X test matrix, y test vector, the new optimized and fitted classifier, and the accuracy of the new model on the training and test sets**.\n",
    "\n",
    "`do_classify` takes in:\n",
    "* indf as the input dataframe (dftouse)\n",
    "* featurenames as the variables we want to test (lcols)\n",
    "* targetname as the variable we want predict (win)\n",
    "* mask, the boolean vector indicator test set\n",
    "* n_jobs, used for parallelization\n",
    "* score_func, algorithm used to determine score"
   ]
  },
  {
   "cell_type": "code",
   "execution_count": 512,
   "metadata": {
    "collapsed": true
   },
   "outputs": [],
   "source": [
    "from sklearn.grid_search import GridSearchCV\n",
    "from sklearn.metrics import confusion_matrix\n",
    "\n",
    "def cv_optimize(clf, parameters, X, y, n_jobs=1, n_folds=5, score_func=None):\n",
    "    if score_func:\n",
    "        gs = GridSearchCV(clf, param_grid=parameters, cv=n_folds, n_jobs=n_jobs, scoring=score_func)\n",
    "    else:\n",
    "        gs = GridSearchCV(clf, param_grid=parameters, n_jobs=n_jobs, cv=n_folds)\n",
    "    gs.fit(X, y)\n",
    "    print \"BEST\", gs.best_params_, gs.best_score_, gs.grid_scores_\n",
    "    best = gs.best_estimator_\n",
    "    return best\n",
    "\n",
    "def do_classify(clf, parameters, indf, featurenames, targetname, target1val, mask=None, reuse_split =None: score_func=None, n_folds=5, n_jobs=1):\n",
    "    subdf=indf[featurenames]\n",
    "    X=subdf.values\n",
    "    y=(indf[targetname].values==target1val)*1\n",
    "    if mask !=None:\n",
    "        print \"using mask\"\n",
    "        Xtrain, Xtest, ytrain, ytest = X[mask], X[~mask], y[mask], y[~mask]\n",
    "    if parameters:\n",
    "        clf = cv_optimize(clf, parameters, Xtrain, ytrain, n_jobs=n_jobs, n_folds=n_folds, score_func=score_func)\n",
    "    if reuse_split !=None:\n",
    "        print \"using reuse split\"\n",
    "        Xtrain, Xtest, ytrain, ytest = reuse_split['Xtrain'], reuse_split['Xtest'], reuse_split['ytrain'], reuse_split['ytest']\n",
    "    clf=clf.fit(Xtrain, ytrain)\n",
    "    training_accuracy = clf.score(Xtrain, ytrain)\n",
    "    test_accuracy = clf.score(Xtest, ytest)\n",
    "    print \"############# based on standard predict ################\"\n",
    "    print \"Accuracy on training data: %0.2f\" % (training_accuracy)\n",
    "    print \"Accuracy on test data:     %0.2f\" % (test_accuracy)\n",
    "    print confusion_matrix(ytest, clf.predict(Xtest))\n",
    "    print \"########################################################\"\n",
    "    return clf, Xtrain, ytrain, Xtest, ytest"
   ]
  },
  {
   "cell_type": "markdown",
   "metadata": {},
   "source": [
    "We want to optimize `n_estimators`, which is the number of trees in the forest. We wanted a large number of trees in the forest so we can better identify which features are more important; so we'll test to see up to 99 trees. Then, we'll run `do_classify`."
   ]
  },
  {
   "cell_type": "code",
   "execution_count": 515,
   "metadata": {
    "collapsed": false
   },
   "outputs": [
    {
     "name": "stdout",
     "output_type": "stream",
     "text": [
      "using mask\n"
     ]
    },
    {
     "name": "stderr",
     "output_type": "stream",
     "text": [
      "/Users/leosjk/anaconda/lib/python2.7/site-packages/IPython/kernel/__main__.py:46: FutureWarning: comparison to `None` will result in an elementwise object comparison in the future.\n"
     ]
    },
    {
     "name": "stdout",
     "output_type": "stream",
     "text": [
      "BEST {'n_estimators': 74} 0.977412389955 [mean: 0.95984, std: 0.00385, params: {'n_estimators': 1}, mean: 0.96176, std: 0.00370, params: {'n_estimators': 2}, mean: 0.97171, std: 0.00416, params: {'n_estimators': 3}, mean: 0.96886, std: 0.00338, params: {'n_estimators': 4}, mean: 0.97422, std: 0.00269, params: {'n_estimators': 5}, mean: 0.97431, std: 0.00131, params: {'n_estimators': 6}, mean: 0.97356, std: 0.00299, params: {'n_estimators': 7}, mean: 0.97389, std: 0.00324, params: {'n_estimators': 8}, mean: 0.97441, std: 0.00348, params: {'n_estimators': 9}, mean: 0.97690, std: 0.00327, params: {'n_estimators': 10}, mean: 0.97562, std: 0.00344, params: {'n_estimators': 11}, mean: 0.97559, std: 0.00304, params: {'n_estimators': 12}, mean: 0.97509, std: 0.00357, params: {'n_estimators': 13}, mean: 0.97546, std: 0.00376, params: {'n_estimators': 14}, mean: 0.97616, std: 0.00296, params: {'n_estimators': 15}, mean: 0.97667, std: 0.00357, params: {'n_estimators': 16}, mean: 0.97617, std: 0.00323, params: {'n_estimators': 17}, mean: 0.97567, std: 0.00183, params: {'n_estimators': 18}, mean: 0.97640, std: 0.00313, params: {'n_estimators': 19}, mean: 0.97650, std: 0.00315, params: {'n_estimators': 20}, mean: 0.97673, std: 0.00341, params: {'n_estimators': 21}, mean: 0.97706, std: 0.00360, params: {'n_estimators': 22}, mean: 0.97599, std: 0.00360, params: {'n_estimators': 23}, mean: 0.97628, std: 0.00380, params: {'n_estimators': 24}, mean: 0.97579, std: 0.00441, params: {'n_estimators': 25}, mean: 0.97655, std: 0.00360, params: {'n_estimators': 26}, mean: 0.97562, std: 0.00296, params: {'n_estimators': 27}, mean: 0.97603, std: 0.00345, params: {'n_estimators': 28}, mean: 0.97653, std: 0.00341, params: {'n_estimators': 29}, mean: 0.97676, std: 0.00250, params: {'n_estimators': 30}, mean: 0.97668, std: 0.00410, params: {'n_estimators': 31}, mean: 0.97609, std: 0.00388, params: {'n_estimators': 32}, mean: 0.97699, std: 0.00347, params: {'n_estimators': 33}, mean: 0.97610, std: 0.00350, params: {'n_estimators': 34}, mean: 0.97637, std: 0.00370, params: {'n_estimators': 35}, mean: 0.97657, std: 0.00315, params: {'n_estimators': 36}, mean: 0.97618, std: 0.00406, params: {'n_estimators': 37}, mean: 0.97672, std: 0.00365, params: {'n_estimators': 38}, mean: 0.97577, std: 0.00324, params: {'n_estimators': 39}, mean: 0.97631, std: 0.00361, params: {'n_estimators': 40}, mean: 0.97617, std: 0.00418, params: {'n_estimators': 41}, mean: 0.97623, std: 0.00342, params: {'n_estimators': 42}, mean: 0.97646, std: 0.00343, params: {'n_estimators': 43}, mean: 0.97616, std: 0.00317, params: {'n_estimators': 44}, mean: 0.97680, std: 0.00332, params: {'n_estimators': 45}, mean: 0.97719, std: 0.00379, params: {'n_estimators': 46}, mean: 0.97583, std: 0.00446, params: {'n_estimators': 47}, mean: 0.97581, std: 0.00379, params: {'n_estimators': 48}, mean: 0.97644, std: 0.00350, params: {'n_estimators': 49}, mean: 0.97595, std: 0.00326, params: {'n_estimators': 50}, mean: 0.97632, std: 0.00383, params: {'n_estimators': 51}, mean: 0.97623, std: 0.00351, params: {'n_estimators': 52}, mean: 0.97630, std: 0.00358, params: {'n_estimators': 53}, mean: 0.97720, std: 0.00380, params: {'n_estimators': 54}, mean: 0.97686, std: 0.00333, params: {'n_estimators': 55}, mean: 0.97653, std: 0.00347, params: {'n_estimators': 56}, mean: 0.97680, std: 0.00297, params: {'n_estimators': 57}, mean: 0.97713, std: 0.00348, params: {'n_estimators': 58}, mean: 0.97694, std: 0.00304, params: {'n_estimators': 59}, mean: 0.97707, std: 0.00428, params: {'n_estimators': 60}, mean: 0.97645, std: 0.00377, params: {'n_estimators': 61}, mean: 0.97624, std: 0.00370, params: {'n_estimators': 62}, mean: 0.97708, std: 0.00298, params: {'n_estimators': 63}, mean: 0.97678, std: 0.00353, params: {'n_estimators': 64}, mean: 0.97673, std: 0.00339, params: {'n_estimators': 65}, mean: 0.97686, std: 0.00331, params: {'n_estimators': 66}, mean: 0.97672, std: 0.00342, params: {'n_estimators': 67}, mean: 0.97658, std: 0.00347, params: {'n_estimators': 68}, mean: 0.97645, std: 0.00297, params: {'n_estimators': 69}, mean: 0.97734, std: 0.00366, params: {'n_estimators': 70}, mean: 0.97651, std: 0.00369, params: {'n_estimators': 71}, mean: 0.97659, std: 0.00387, params: {'n_estimators': 72}, mean: 0.97637, std: 0.00349, params: {'n_estimators': 73}, mean: 0.97741, std: 0.00334, params: {'n_estimators': 74}, mean: 0.97659, std: 0.00330, params: {'n_estimators': 75}, mean: 0.97638, std: 0.00383, params: {'n_estimators': 76}, mean: 0.97576, std: 0.00401, params: {'n_estimators': 77}, mean: 0.97700, std: 0.00348, params: {'n_estimators': 78}, mean: 0.97616, std: 0.00383, params: {'n_estimators': 79}, mean: 0.97685, std: 0.00338, params: {'n_estimators': 80}, mean: 0.97698, std: 0.00299, params: {'n_estimators': 81}, mean: 0.97665, std: 0.00413, params: {'n_estimators': 82}, mean: 0.97672, std: 0.00372, params: {'n_estimators': 83}, mean: 0.97680, std: 0.00399, params: {'n_estimators': 84}, mean: 0.97665, std: 0.00378, params: {'n_estimators': 85}, mean: 0.97691, std: 0.00406, params: {'n_estimators': 86}, mean: 0.97631, std: 0.00345, params: {'n_estimators': 87}, mean: 0.97679, std: 0.00353, params: {'n_estimators': 88}, mean: 0.97638, std: 0.00355, params: {'n_estimators': 89}, mean: 0.97659, std: 0.00337, params: {'n_estimators': 90}, mean: 0.97671, std: 0.00362, params: {'n_estimators': 91}, mean: 0.97657, std: 0.00298, params: {'n_estimators': 92}, mean: 0.97680, std: 0.00344, params: {'n_estimators': 93}, mean: 0.97658, std: 0.00316, params: {'n_estimators': 94}, mean: 0.97659, std: 0.00344, params: {'n_estimators': 95}, mean: 0.97672, std: 0.00315, params: {'n_estimators': 96}, mean: 0.97666, std: 0.00383, params: {'n_estimators': 97}, mean: 0.97644, std: 0.00331, params: {'n_estimators': 98}, mean: 0.97700, std: 0.00330, params: {'n_estimators': 99}]\n",
      "############# based on standard predict ################\n",
      "Accuracy on training data: 1.00\n",
      "Accuracy on test data:     0.98\n",
      "[[2631   43]\n",
      " [  57 2325]]\n",
      "########################################################\n"
     ]
    }
   ],
   "source": [
    "parameters = {\"n_estimators\": range(1, 100)}\n",
    "clfForest, Xtrain, ytrain, Xtest, ytest = do_classify(clfForest, parameters, \n",
    "                                                       dftouse, lcols, 'win', 1, mask=mask, \n",
    "                                                       n_jobs = 4, score_func='f1')"
   ]
  },
  {
   "cell_type": "markdown",
   "metadata": {},
   "source": [
    "The best parameter value is 74, with a score of 0.977. Let's print the clfForest to see its features."
   ]
  },
  {
   "cell_type": "code",
   "execution_count": 516,
   "metadata": {
    "collapsed": false
   },
   "outputs": [
    {
     "data": {
      "text/plain": [
       "RandomForestClassifier(bootstrap=True, class_weight=None, criterion='gini',\n",
       "            max_depth=None, max_features='auto', max_leaf_nodes=None,\n",
       "            min_samples_leaf=1, min_samples_split=2,\n",
       "            min_weight_fraction_leaf=0.0, n_estimators=74, n_jobs=1,\n",
       "            oob_score=False, random_state=None, verbose=0,\n",
       "            warm_start=False)"
      ]
     },
     "execution_count": 516,
     "metadata": {},
     "output_type": "execute_result"
    }
   ],
   "source": [
    "clfForest"
   ]
  },
  {
   "cell_type": "markdown",
   "metadata": {},
   "source": [
    "Let's store the training and test sets in `reuse_split` so we can use them later with consistent sets."
   ]
  },
  {
   "cell_type": "code",
   "execution_count": 526,
   "metadata": {
    "collapsed": true
   },
   "outputs": [],
   "source": [
    "reuse_split=dict(Xtrain=Xtrain, Xtest=Xtest, ytrain=ytrain, ytest=ytest)"
   ]
  },
  {
   "cell_type": "markdown",
   "metadata": {},
   "source": [
    "<span style = \"font-size: 1.34em\"> Visualizing the results <span>\n",
    "\n",
    "We'll first visualize the relative importance of each feature. The importances sum up to 1, which gives us an interesting insight into how important each feature was in predicting the winner. `feature_importances` returns the importances."
   ]
  },
  {
   "cell_type": "code",
   "execution_count": 517,
   "metadata": {
    "collapsed": false
   },
   "outputs": [],
   "source": [
    "#We can plot the importances\n",
    "importances = clfForest.feature_importances_"
   ]
  },
  {
   "cell_type": "markdown",
   "metadata": {},
   "source": [
    "We'll sort the importances and column names so they match up."
   ]
  },
  {
   "cell_type": "code",
   "execution_count": 518,
   "metadata": {
    "collapsed": true
   },
   "outputs": [],
   "source": [
    "imp_sort, lcols_sort = zip(*sorted(zip(importances, lcols)))"
   ]
  },
  {
   "cell_type": "markdown",
   "metadata": {},
   "source": [
    "We'll use a horizontal bar chart to compare the importances. "
   ]
  },
  {
   "cell_type": "code",
   "execution_count": 519,
   "metadata": {
    "collapsed": false
   },
   "outputs": [
    {
     "data": {
      "image/png": "[encoded data removed]",
      "text/plain": [
       "<matplotlib.figure.Figure at 0x10c0b6850>"
      ]
     },
     "metadata": {},
     "output_type": "display_data"
    }
   ],
   "source": [
    "#plot importances\n",
    "plt.barh(range(len(lcols_sort)),imp_sort,align='center')\n",
    "plt.yticks(range(len(lcols_sort)),lcols_sort)\n",
    "plt.xlabel('Relative Importance in the Random Forest')\n",
    "plt.ylabel('Features')\n",
    "plt.title('Relative importance of Each Feature')\n",
    "plt.show()"
   ]
  },
  {
   "cell_type": "markdown",
   "metadata": {},
   "source": [
    "We see that the results show us that the five most important variables in predicting the winner of the game are difference in gold earned, difference in kill-death-assist ratio, who got the first inhib, difference in damage dealt to champions, and difference in the number of killing sprees. Comparatively, we see that difference in the number of type of champions, such as \"tank\" and \"ranged\", were very weak variables, as well as who got first blood and who got first turret. "
   ]
  },
  {
   "cell_type": "code",
   "execution_count": null,
   "metadata": {
    "collapsed": true
   },
   "outputs": [],
   "source": []
  },
  {
   "cell_type": "markdown",
   "metadata": {},
   "source": [
    "Standardizing the dataframe stuff"
   ]
  },
  {
   "cell_type": "code",
   "execution_count": 468,
   "metadata": {
    "collapsed": false
   },
   "outputs": [
    {
     "name": "stdout",
     "output_type": "stream",
     "text": [
      "['diffbaron', 'diffcc', 'diffcs', 'diffdmg', 'diffdrag', 'diffgold', 'diffkda', 'diffrange', 'diffspree', 'difftank']\n"
     ]
    }
   ],
   "source": [
    "#Standardizeable variables\n",
    "stdz = list(dftouse.columns)\n",
    "stdz.remove('win')\n",
    "stdz.remove('fblood') \n",
    "stdz.remove('finhib')\n",
    "stdz.remove('fdrag')\n",
    "stdz.remove('fbaron')\n",
    "stdz.remove('fturret')\n",
    "print(stdz)"
   ]
  },
  {
   "cell_type": "code",
   "execution_count": 469,
   "metadata": {
    "collapsed": false
   },
   "outputs": [
    {
     "name": "stderr",
     "output_type": "stream",
     "text": [
      "/Users/leosjk/anaconda/lib/python2.7/site-packages/IPython/kernel/__main__.py:2: SettingWithCopyWarning: \n",
      "A value is trying to be set on a copy of a slice from a DataFrame.\n",
      "Try using .loc[row_indexer,col_indexer] = value instead\n",
      "\n",
      "See the the caveats in the documentation: http://pandas.pydata.org/pandas-docs/stable/indexing.html#indexing-view-versus-copy\n",
      "  from IPython.kernel.zmq import kernelapp as app\n"
     ]
    }
   ],
   "source": [
    "#adding mask column\n",
    "dftouse['Mask'] = mask\n",
    "#trainset to fit and standardize\n",
    "trainset = dftouse.query('Mask == True')\n",
    "testset = dftouse.query('Mask == False')\n",
    "#test set train set\n",
    "trainset = trainset[stdz]\n",
    "testset = testset[stdz]"
   ]
  },
  {
   "cell_type": "code",
   "execution_count": 470,
   "metadata": {
    "collapsed": true
   },
   "outputs": [],
   "source": [
    "#standardizing our data\n",
    "from sklearn.preprocessing import StandardScaler\n",
    "from sklearn import preprocessing\n",
    "preprocessing.StandardScaler().fit(trainset)\n",
    "fitdf = preprocessing.StandardScaler().fit_transform(dftouse[stdz])\n",
    "newdf = pd.DataFrame(fitdf)\n",
    "newdf.columns = trainset.columns"
   ]
  },
  {
   "cell_type": "code",
   "execution_count": 471,
   "metadata": {
    "collapsed": false,
    "scrolled": true
   },
   "outputs": [
    {
     "data": {
      "text/html": [
       "<div>\n",
       "<table border=\"1\" class=\"dataframe\">\n",
       "  <thead>\n",
       "    <tr style=\"text-align: right;\">\n",
       "      <th></th>\n",
       "      <th>diffbaron</th>\n",
       "      <th>diffcc</th>\n",
       "      <th>diffcs</th>\n",
       "      <th>diffdmg</th>\n",
       "      <th>diffdrag</th>\n",
       "      <th>diffgold</th>\n",
       "      <th>diffkda</th>\n",
       "      <th>diffrange</th>\n",
       "      <th>diffspree</th>\n",
       "      <th>difftank</th>\n",
       "      <th>fbaron</th>\n",
       "      <th>fblood</th>\n",
       "      <th>fdrag</th>\n",
       "      <th>finhib</th>\n",
       "      <th>fturret</th>\n",
       "      <th>win</th>\n",
       "      <th>Mask</th>\n",
       "    </tr>\n",
       "  </thead>\n",
       "  <tbody>\n",
       "    <tr>\n",
       "      <th>0</th>\n",
       "      <td>1.012372</td>\n",
       "      <td>0.427762</td>\n",
       "      <td>1.615697</td>\n",
       "      <td>0.818152</td>\n",
       "      <td>1.487001</td>\n",
       "      <td>1.482770</td>\n",
       "      <td>0.744954</td>\n",
       "      <td>-0.848866</td>\n",
       "      <td>1.306314</td>\n",
       "      <td>-0.005191</td>\n",
       "      <td>True</td>\n",
       "      <td>False</td>\n",
       "      <td>True</td>\n",
       "      <td>True</td>\n",
       "      <td>False</td>\n",
       "      <td>True</td>\n",
       "      <td>True</td>\n",
       "    </tr>\n",
       "    <tr>\n",
       "      <th>1</th>\n",
       "      <td>1.012372</td>\n",
       "      <td>-0.346850</td>\n",
       "      <td>0.360326</td>\n",
       "      <td>-1.028140</td>\n",
       "      <td>0.112277</td>\n",
       "      <td>-0.836434</td>\n",
       "      <td>-0.728606</td>\n",
       "      <td>0.857049</td>\n",
       "      <td>-1.736486</td>\n",
       "      <td>0.957995</td>\n",
       "      <td>True</td>\n",
       "      <td>False</td>\n",
       "      <td>True</td>\n",
       "      <td>False</td>\n",
       "      <td>False</td>\n",
       "      <td>False</td>\n",
       "      <td>True</td>\n",
       "    </tr>\n",
       "    <tr>\n",
       "      <th>2</th>\n",
       "      <td>-0.875690</td>\n",
       "      <td>0.344841</td>\n",
       "      <td>0.283662</td>\n",
       "      <td>-0.232503</td>\n",
       "      <td>0.112277</td>\n",
       "      <td>-0.863373</td>\n",
       "      <td>-0.778652</td>\n",
       "      <td>0.857049</td>\n",
       "      <td>-0.722219</td>\n",
       "      <td>0.957995</td>\n",
       "      <td>False</td>\n",
       "      <td>True</td>\n",
       "      <td>True</td>\n",
       "      <td>False</td>\n",
       "      <td>True</td>\n",
       "      <td>False</td>\n",
       "      <td>True</td>\n",
       "    </tr>\n",
       "    <tr>\n",
       "      <th>3</th>\n",
       "      <td>-0.875690</td>\n",
       "      <td>-0.168648</td>\n",
       "      <td>-1.086705</td>\n",
       "      <td>-0.374414</td>\n",
       "      <td>-0.804205</td>\n",
       "      <td>-1.335757</td>\n",
       "      <td>-0.629018</td>\n",
       "      <td>0.857049</td>\n",
       "      <td>-1.482920</td>\n",
       "      <td>-0.005191</td>\n",
       "      <td>False</td>\n",
       "      <td>False</td>\n",
       "      <td>False</td>\n",
       "      <td>False</td>\n",
       "      <td>False</td>\n",
       "      <td>False</td>\n",
       "      <td>True</td>\n",
       "    </tr>\n",
       "    <tr>\n",
       "      <th>4</th>\n",
       "      <td>0.068341</td>\n",
       "      <td>0.395315</td>\n",
       "      <td>1.682778</td>\n",
       "      <td>0.610254</td>\n",
       "      <td>0.112277</td>\n",
       "      <td>1.020188</td>\n",
       "      <td>1.049785</td>\n",
       "      <td>0.004091</td>\n",
       "      <td>0.799181</td>\n",
       "      <td>2.884368</td>\n",
       "      <td>False</td>\n",
       "      <td>False</td>\n",
       "      <td>False</td>\n",
       "      <td>True</td>\n",
       "      <td>True</td>\n",
       "      <td>True</td>\n",
       "      <td>True</td>\n",
       "    </tr>\n",
       "  </tbody>\n",
       "</table>\n",
       "</div>"
      ],
      "text/plain": [
       "   diffbaron    diffcc    diffcs   diffdmg  diffdrag  diffgold   diffkda  diffrange  diffspree  difftank fbaron fblood  fdrag finhib fturret    win  Mask\n",
       "0   1.012372  0.427762  1.615697  0.818152  1.487001  1.482770  0.744954  -0.848866   1.306314 -0.005191   True  False   True   True   False   True  True\n",
       "1   1.012372 -0.346850  0.360326 -1.028140  0.112277 -0.836434 -0.728606   0.857049  -1.736486  0.957995   True  False   True  False   False  False  True\n",
       "2  -0.875690  0.344841  0.283662 -0.232503  0.112277 -0.863373 -0.778652   0.857049  -0.722219  0.957995  False   True   True  False    True  False  True\n",
       "3  -0.875690 -0.168648 -1.086705 -0.374414 -0.804205 -1.335757 -0.629018   0.857049  -1.482920 -0.005191  False  False  False  False   False  False  True\n",
       "4   0.068341  0.395315  1.682778  0.610254  0.112277  1.020188  1.049785   0.004091   0.799181  2.884368  False  False  False   True    True   True  True"
      ]
     },
     "execution_count": 471,
     "metadata": {},
     "output_type": "execute_result"
    }
   ],
   "source": [
    "#replace values\n",
    "dftouse[stdz] = newdf\n",
    "dftouse.head()"
   ]
  },
  {
   "cell_type": "code",
   "execution_count": 473,
   "metadata": {
    "collapsed": true
   },
   "outputs": [],
   "source": [
    "Xmatrix = dftouse[lcols].values\n",
    "yvals = dftouse['win'].values"
   ]
  },
  {
   "cell_type": "code",
   "execution_count": 474,
   "metadata": {
    "collapsed": true
   },
   "outputs": [],
   "source": [
    "##split to train and test\n",
    "X_train = Xmatrix[mask]\n",
    "X_test = Xmatrix[~mask]\n",
    "y_train = yvals[mask]\n",
    "y_test = yvals[~mask]"
   ]
  },
  {
   "cell_type": "code",
   "execution_count": 529,
   "metadata": {
    "collapsed": false
   },
   "outputs": [
    {
     "name": "stdout",
     "output_type": "stream",
     "text": [
      "5056\n",
      "15167\n",
      "Yay\n"
     ]
    }
   ],
   "source": [
    "print len(mask[itest])\n",
    "print len(mask[itrain])\n",
    "if ytest.all() == y_test.all():\n",
    "    print(\"Yay\")"
   ]
  },
  {
   "cell_type": "code",
   "execution_count": 477,
   "metadata": {
    "collapsed": false
   },
   "outputs": [],
   "source": [
    "#We can graph importances.\n",
    "#First we fit\n",
    "clfForest = clfForest.fit(X_train, y_train)"
   ]
  }
 ],
 "metadata": {
  "kernelspec": {
   "display_name": "Python 2",
   "language": "python",
   "name": "python2"
  },
  "language_info": {
   "codemirror_mode": {
    "name": "ipython",
    "version": 2
   },
   "file_extension": ".py",
   "mimetype": "text/x-python",
   "name": "python",
   "nbconvert_exporter": "python",
   "pygments_lexer": "ipython2",
   "version": "2.7.11"
  }
 },
 "nbformat": 4,
 "nbformat_minor": 0
}
