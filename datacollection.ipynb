{
 "cells": [
  {
   "cell_type": "code",
   "execution_count": null,
   "metadata": {
    "collapsed": true
   },
   "outputs": [],
   "source": [
    "# DATA COLLECTION\n",
    "from cassiopeia import riotapi\n",
    "from cassiopeia.type.core.common import Queue\n",
    "import pickle\n",
    "import os\n",
    "\n",
    "def get_api_key():\n",
    "    return \"99482144-d828-401f-8c92-6c5e1d8ad852\"\n",
    "\n",
    "def save_match(match):\n",
    "    # directory that holds our precious data\n",
    "    data_dir = \"match_data\"\n",
    "    \n",
    "    # create data directory if necessary\n",
    "    if not os.path.exists(data_dir):\n",
    "        os.makedirs(data_dir)\n",
    "    \n",
    "    # skip if the data is already there\n",
    "    if os.path.exists(data_dir + \"\\\\\" + str(match.id) + \".pickle\"):\n",
    "        print(\"Skipped match\", match.id)\n",
    "    else:\n",
    "        # save the match by writing it to disk\n",
    "        with open(os.path.join(data_dir, str(match.id)+'.pickle'), 'wb') as f:\n",
    "            pickle.dump(match, f)\n",
    "        print(\"Saved match\", match.id)\n",
    "\n",
    "def download_matches(players):\n",
    "    for player in players:\n",
    "        print(\"Processing player\", player.id)\n",
    "        for matchref in riotapi.get_match_list(player, ranked_queues=[Queue.ranked_solo]):\n",
    "            save_match(riotapi.get_match(matchref.id))\n",
    "\n",
    "def get_high_elo():\n",
    "    summoners = []\n",
    "    for entry in riotapi.get_challenger():\n",
    "        summoners.append(entry.summoner)\n",
    "        \n",
    "    for entry in riotapi.get_master():\n",
    "        summoners.append(entry.summoner)\n",
    "\n",
    "    return summoners\n",
    "\n",
    "def main():\n",
    "    riotapi.set_region(\"NA\")\n",
    "    riotapi.set_api_key(get_api_key())\n",
    "    download_matches(get_high_elo())\n",
    "\n",
    "main()"
   ]
  }
 ],
 "metadata": {
  "kernelspec": {
   "display_name": "Python 3",
   "language": "python",
   "name": "python3"
  },
  "language_info": {
   "codemirror_mode": {
    "name": "ipython",
    "version": 3
   },
   "file_extension": ".py",
   "mimetype": "text/x-python",
   "name": "python",
   "nbconvert_exporter": "python",
   "pygments_lexer": "ipython3",
   "version": "3.3.5"
  }
 },
 "nbformat": 4,
 "nbformat_minor": 0
}
