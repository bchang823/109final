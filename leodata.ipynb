{
 "cells": [
  {
   "cell_type": "code",
   "execution_count": 1,
   "metadata": {
    "collapsed": true
   },
   "outputs": [],
   "source": [
    "%matplotlib inline\n",
    "import numpy as np\n",
    "import scipy as sp\n",
    "import matplotlib as mpl\n",
    "import matplotlib.cm as cm\n",
    "import matplotlib.pyplot as plt\n",
    "import pandas as pd\n",
    "pd.set_option('display.width', 500)\n",
    "pd.set_option('display.max_columns', 100)\n",
    "pd.set_option('display.notebook_repr_html', True)\n",
    "import seaborn as sns\n",
    "sns.set_style(\"whitegrid\")\n",
    "sns.set_context(\"poster\")"
   ]
  },
  {
   "cell_type": "code",
   "execution_count": 2,
   "metadata": {
    "collapsed": false
   },
   "outputs": [
    {
     "data": {
      "text/html": [
       "<div>\n",
       "<table border=\"1\" class=\"dataframe\">\n",
       "  <thead>\n",
       "    <tr style=\"text-align: right;\">\n",
       "      <th></th>\n",
       "      <th>diffbaron</th>\n",
       "      <th>diffcc</th>\n",
       "      <th>diffcs</th>\n",
       "      <th>diffdmg</th>\n",
       "      <th>diffdrag</th>\n",
       "      <th>diffgold</th>\n",
       "      <th>diffinhib</th>\n",
       "      <th>diffkda</th>\n",
       "      <th>diffrange</th>\n",
       "      <th>diffspree</th>\n",
       "      <th>difftank</th>\n",
       "      <th>diffturr</th>\n",
       "      <th>fbaron</th>\n",
       "      <th>fblood</th>\n",
       "      <th>fdrag</th>\n",
       "      <th>finhib</th>\n",
       "      <th>fturret</th>\n",
       "      <th>win</th>\n",
       "    </tr>\n",
       "  </thead>\n",
       "  <tbody>\n",
       "    <tr>\n",
       "      <th>0</th>\n",
       "      <td>1</td>\n",
       "      <td>819</td>\n",
       "      <td>155</td>\n",
       "      <td>17067</td>\n",
       "      <td>3</td>\n",
       "      <td>17703</td>\n",
       "      <td>2</td>\n",
       "      <td>18.144444</td>\n",
       "      <td>-1</td>\n",
       "      <td>5</td>\n",
       "      <td>0</td>\n",
       "      <td>8</td>\n",
       "      <td>True</td>\n",
       "      <td>False</td>\n",
       "      <td>True</td>\n",
       "      <td>True</td>\n",
       "      <td>False</td>\n",
       "      <td>True</td>\n",
       "    </tr>\n",
       "    <tr>\n",
       "      <th>1</th>\n",
       "      <td>1</td>\n",
       "      <td>-685</td>\n",
       "      <td>24</td>\n",
       "      <td>-23447</td>\n",
       "      <td>0</td>\n",
       "      <td>-11396</td>\n",
       "      <td>-2</td>\n",
       "      <td>-20.117208</td>\n",
       "      <td>1</td>\n",
       "      <td>-7</td>\n",
       "      <td>1</td>\n",
       "      <td>-4</td>\n",
       "      <td>True</td>\n",
       "      <td>False</td>\n",
       "      <td>True</td>\n",
       "      <td>False</td>\n",
       "      <td>False</td>\n",
       "      <td>False</td>\n",
       "    </tr>\n",
       "    <tr>\n",
       "      <th>2</th>\n",
       "      <td>-1</td>\n",
       "      <td>658</td>\n",
       "      <td>16</td>\n",
       "      <td>-5988</td>\n",
       "      <td>0</td>\n",
       "      <td>-11734</td>\n",
       "      <td>-2</td>\n",
       "      <td>-21.416667</td>\n",
       "      <td>1</td>\n",
       "      <td>-3</td>\n",
       "      <td>1</td>\n",
       "      <td>-6</td>\n",
       "      <td>False</td>\n",
       "      <td>True</td>\n",
       "      <td>True</td>\n",
       "      <td>False</td>\n",
       "      <td>True</td>\n",
       "      <td>False</td>\n",
       "    </tr>\n",
       "    <tr>\n",
       "      <th>3</th>\n",
       "      <td>-1</td>\n",
       "      <td>-339</td>\n",
       "      <td>-127</td>\n",
       "      <td>-9102</td>\n",
       "      <td>-2</td>\n",
       "      <td>-17661</td>\n",
       "      <td>-2</td>\n",
       "      <td>-17.531349</td>\n",
       "      <td>1</td>\n",
       "      <td>-6</td>\n",
       "      <td>0</td>\n",
       "      <td>-7</td>\n",
       "      <td>False</td>\n",
       "      <td>False</td>\n",
       "      <td>False</td>\n",
       "      <td>False</td>\n",
       "      <td>False</td>\n",
       "      <td>False</td>\n",
       "    </tr>\n",
       "    <tr>\n",
       "      <th>4</th>\n",
       "      <td>0</td>\n",
       "      <td>756</td>\n",
       "      <td>162</td>\n",
       "      <td>12505</td>\n",
       "      <td>0</td>\n",
       "      <td>11899</td>\n",
       "      <td>1</td>\n",
       "      <td>26.059524</td>\n",
       "      <td>0</td>\n",
       "      <td>3</td>\n",
       "      <td>3</td>\n",
       "      <td>5</td>\n",
       "      <td>False</td>\n",
       "      <td>False</td>\n",
       "      <td>False</td>\n",
       "      <td>True</td>\n",
       "      <td>True</td>\n",
       "      <td>True</td>\n",
       "    </tr>\n",
       "  </tbody>\n",
       "</table>\n",
       "</div>"
      ],
      "text/plain": [
       "   diffbaron  diffcc  diffcs  diffdmg  diffdrag  diffgold  diffinhib    diffkda  diffrange  diffspree  difftank  diffturr fbaron fblood  fdrag finhib fturret    win\n",
       "0          1     819     155    17067         3     17703          2  18.144444         -1          5         0         8   True  False   True   True   False   True\n",
       "1          1    -685      24   -23447         0    -11396         -2 -20.117208          1         -7         1        -4   True  False   True  False   False  False\n",
       "2         -1     658      16    -5988         0    -11734         -2 -21.416667          1         -3         1        -6  False   True   True  False    True  False\n",
       "3         -1    -339    -127    -9102        -2    -17661         -2 -17.531349          1         -6         0        -7  False  False  False  False   False  False\n",
       "4          0     756     162    12505         0     11899          1  26.059524          0          3         3         5  False  False  False   True    True   True"
      ]
     },
     "execution_count": 2,
     "metadata": {},
     "output_type": "execute_result"
    }
   ],
   "source": [
    "dftouse=pd.read_csv('newdf.csv')\n",
    "dftouse.head()"
   ]
  },
  {
   "cell_type": "code",
   "execution_count": 3,
   "metadata": {
    "collapsed": true
   },
   "outputs": [],
   "source": [
    "##Random forest classifier\n",
    "#First we want to create mask values so we can split the dataframe into training and testing sets. \n",
    "#To do that we import 'train_test_split', and create mask values.\n",
    "from sklearn.cross_validation import train_test_split\n",
    "itrain, itest = train_test_split(xrange(dftouse.shape[0]), train_size=0.75)\n",
    "\n",
    "mask=np.ones(dftouse.shape[0], dtype='int')\n",
    "mask[itrain]=1\n",
    "mask[itest]=0\n",
    "mask = (mask==1)"
   ]
  },
  {
   "cell_type": "code",
   "execution_count": 4,
   "metadata": {
    "collapsed": false
   },
   "outputs": [
    {
     "data": {
      "text/plain": [
       "((20223L,), 15167)"
      ]
     },
     "execution_count": 4,
     "metadata": {},
     "output_type": "execute_result"
    }
   ],
   "source": [
    "#seeing if it worked out correctly\n",
    "mask.shape, mask.sum()"
   ]
  },
  {
   "cell_type": "code",
   "execution_count": 5,
   "metadata": {
    "collapsed": true
   },
   "outputs": [],
   "source": [
    "#adding mask column\n",
    "dftouse['Mask'] = mask"
   ]
  },
  {
   "cell_type": "code",
   "execution_count": 6,
   "metadata": {
    "collapsed": true
   },
   "outputs": [],
   "source": [
    "lcols = list(dftouse.columns)"
   ]
  },
  {
   "cell_type": "code",
   "execution_count": 7,
   "metadata": {
    "collapsed": false
   },
   "outputs": [
    {
     "name": "stdout",
     "output_type": "stream",
     "text": [
      "['diffbaron', 'diffcc', 'diffcs', 'diffdmg', 'diffdrag', 'diffgold', 'diffinhib', 'diffkda', 'diffrange', 'diffspree', 'difftank', 'diffturr', 'fbaron', 'fblood', 'fdrag', 'finhib', 'fturret', 'win', 'Mask']\n"
     ]
    }
   ],
   "source": [
    "print(lcols)"
   ]
  },
  {
   "cell_type": "code",
   "execution_count": 8,
   "metadata": {
    "collapsed": false
   },
   "outputs": [],
   "source": [
    "#Standardizeable variables\n",
    "stdz = list(dftouse.columns)\n",
    "stdz.remove('win')\n",
    "stdz.remove('fblood')\n",
    "stdz.remove('finhib')\n",
    "stdz.remove('fdrag')\n",
    "stdz.remove('fbaron') \n",
    "stdz.remove('fturret')\n",
    "\n",
    "\n",
    "#trainset to fit and standardize\n",
    "trainset = dftouse.query('Mask == True')\n",
    "testset = dftouse.query('Mask == False')\n",
    "#test set train set\n",
    "trainset = trainset[stdz]\n",
    "testset = testset[stdz]"
   ]
  },
  {
   "cell_type": "code",
   "execution_count": 9,
   "metadata": {
    "collapsed": true
   },
   "outputs": [],
   "source": [
    "#standardizing our data\n",
    "from sklearn.preprocessing import StandardScaler\n",
    "from sklearn import preprocessing\n",
    "preprocessing.StandardScaler().fit(trainset)\n",
    "fitdf = preprocessing.StandardScaler().fit_transform(dftouse[stdz])\n",
    "newdf = pd.DataFrame(fitdf)\n",
    "newdf.columns = trainset.columns\n"
   ]
  },
  {
   "cell_type": "code",
   "execution_count": 10,
   "metadata": {
    "collapsed": false
   },
   "outputs": [
    {
     "data": {
      "text/html": [
       "<div>\n",
       "<table border=\"1\" class=\"dataframe\">\n",
       "  <thead>\n",
       "    <tr style=\"text-align: right;\">\n",
       "      <th></th>\n",
       "      <th>diffbaron</th>\n",
       "      <th>diffcc</th>\n",
       "      <th>diffcs</th>\n",
       "      <th>diffdmg</th>\n",
       "      <th>diffdrag</th>\n",
       "      <th>diffgold</th>\n",
       "      <th>diffinhib</th>\n",
       "      <th>diffkda</th>\n",
       "      <th>diffrange</th>\n",
       "      <th>diffspree</th>\n",
       "      <th>difftank</th>\n",
       "      <th>diffturr</th>\n",
       "      <th>fbaron</th>\n",
       "      <th>fblood</th>\n",
       "      <th>fdrag</th>\n",
       "      <th>finhib</th>\n",
       "      <th>fturret</th>\n",
       "      <th>win</th>\n",
       "      <th>Mask</th>\n",
       "    </tr>\n",
       "  </thead>\n",
       "  <tbody>\n",
       "    <tr>\n",
       "      <th>0</th>\n",
       "      <td>1.012372</td>\n",
       "      <td>0.427762</td>\n",
       "      <td>1.615697</td>\n",
       "      <td>0.818152</td>\n",
       "      <td>1.487001</td>\n",
       "      <td>1.482770</td>\n",
       "      <td>1.120933</td>\n",
       "      <td>0.744954</td>\n",
       "      <td>-0.848866</td>\n",
       "      <td>1.306314</td>\n",
       "      <td>-0.005191</td>\n",
       "      <td>1.454967</td>\n",
       "      <td>True</td>\n",
       "      <td>False</td>\n",
       "      <td>True</td>\n",
       "      <td>True</td>\n",
       "      <td>False</td>\n",
       "      <td>True</td>\n",
       "      <td>0.577369</td>\n",
       "    </tr>\n",
       "    <tr>\n",
       "      <th>1</th>\n",
       "      <td>1.012372</td>\n",
       "      <td>-0.346850</td>\n",
       "      <td>0.360326</td>\n",
       "      <td>-1.028140</td>\n",
       "      <td>0.112277</td>\n",
       "      <td>-0.836434</td>\n",
       "      <td>-1.082311</td>\n",
       "      <td>-0.728606</td>\n",
       "      <td>0.857049</td>\n",
       "      <td>-1.736486</td>\n",
       "      <td>0.957995</td>\n",
       "      <td>-0.678958</td>\n",
       "      <td>True</td>\n",
       "      <td>False</td>\n",
       "      <td>True</td>\n",
       "      <td>False</td>\n",
       "      <td>False</td>\n",
       "      <td>False</td>\n",
       "      <td>0.577369</td>\n",
       "    </tr>\n",
       "    <tr>\n",
       "      <th>2</th>\n",
       "      <td>-0.875690</td>\n",
       "      <td>0.344841</td>\n",
       "      <td>0.283662</td>\n",
       "      <td>-0.232503</td>\n",
       "      <td>0.112277</td>\n",
       "      <td>-0.863373</td>\n",
       "      <td>-1.082311</td>\n",
       "      <td>-0.778652</td>\n",
       "      <td>0.857049</td>\n",
       "      <td>-0.722219</td>\n",
       "      <td>0.957995</td>\n",
       "      <td>-1.034612</td>\n",
       "      <td>False</td>\n",
       "      <td>True</td>\n",
       "      <td>True</td>\n",
       "      <td>False</td>\n",
       "      <td>True</td>\n",
       "      <td>False</td>\n",
       "      <td>0.577369</td>\n",
       "    </tr>\n",
       "    <tr>\n",
       "      <th>3</th>\n",
       "      <td>-0.875690</td>\n",
       "      <td>-0.168648</td>\n",
       "      <td>-1.086705</td>\n",
       "      <td>-0.374414</td>\n",
       "      <td>-0.804205</td>\n",
       "      <td>-1.335757</td>\n",
       "      <td>-1.082311</td>\n",
       "      <td>-0.629018</td>\n",
       "      <td>0.857049</td>\n",
       "      <td>-1.482920</td>\n",
       "      <td>-0.005191</td>\n",
       "      <td>-1.212439</td>\n",
       "      <td>False</td>\n",
       "      <td>False</td>\n",
       "      <td>False</td>\n",
       "      <td>False</td>\n",
       "      <td>False</td>\n",
       "      <td>False</td>\n",
       "      <td>0.577369</td>\n",
       "    </tr>\n",
       "    <tr>\n",
       "      <th>4</th>\n",
       "      <td>0.068341</td>\n",
       "      <td>0.395315</td>\n",
       "      <td>1.682778</td>\n",
       "      <td>0.610254</td>\n",
       "      <td>0.112277</td>\n",
       "      <td>1.020188</td>\n",
       "      <td>0.570122</td>\n",
       "      <td>1.049785</td>\n",
       "      <td>0.004091</td>\n",
       "      <td>0.799181</td>\n",
       "      <td>2.884368</td>\n",
       "      <td>0.921486</td>\n",
       "      <td>False</td>\n",
       "      <td>False</td>\n",
       "      <td>False</td>\n",
       "      <td>True</td>\n",
       "      <td>True</td>\n",
       "      <td>True</td>\n",
       "      <td>0.577369</td>\n",
       "    </tr>\n",
       "  </tbody>\n",
       "</table>\n",
       "</div>"
      ],
      "text/plain": [
       "   diffbaron    diffcc    diffcs   diffdmg  diffdrag  diffgold  diffinhib   diffkda  diffrange  diffspree  difftank  diffturr fbaron fblood  fdrag finhib fturret    win      Mask\n",
       "0   1.012372  0.427762  1.615697  0.818152  1.487001  1.482770   1.120933  0.744954  -0.848866   1.306314 -0.005191  1.454967   True  False   True   True   False   True  0.577369\n",
       "1   1.012372 -0.346850  0.360326 -1.028140  0.112277 -0.836434  -1.082311 -0.728606   0.857049  -1.736486  0.957995 -0.678958   True  False   True  False   False  False  0.577369\n",
       "2  -0.875690  0.344841  0.283662 -0.232503  0.112277 -0.863373  -1.082311 -0.778652   0.857049  -0.722219  0.957995 -1.034612  False   True   True  False    True  False  0.577369\n",
       "3  -0.875690 -0.168648 -1.086705 -0.374414 -0.804205 -1.335757  -1.082311 -0.629018   0.857049  -1.482920 -0.005191 -1.212439  False  False  False  False   False  False  0.577369\n",
       "4   0.068341  0.395315  1.682778  0.610254  0.112277  1.020188   0.570122  1.049785   0.004091   0.799181  2.884368  0.921486  False  False  False   True    True   True  0.577369"
      ]
     },
     "execution_count": 10,
     "metadata": {},
     "output_type": "execute_result"
    }
   ],
   "source": [
    "#replace values\n",
    "dftouse[stdz] = newdf\n",
    "dftouse.head()"
   ]
  },
  {
   "cell_type": "code",
   "execution_count": 11,
   "metadata": {
    "collapsed": true
   },
   "outputs": [],
   "source": [
    "#Now we will using a Random Forest classifier to figure out which features are more \n",
    "#important in determining the probability of a team winning. First, we split the data set.\n",
    "\n",
    "#columns with values to fit as the X values\n",
    "lcols = list(dftouse.columns)\n",
    "#removing the mask column from the list\n",
    "lcols.remove('Mask')\n",
    "#removing the win (y) response variables from the list\n",
    "lcols.remove('win')\n",
    "\n",
    "Xmatrix = dftouse[lcols].values\n",
    "yvals = dftouse['win'].values\n",
    "\n",
    "##split to trian and test\n",
    "X_train = Xmatrix[mask]\n",
    "X_test = Xmatrix[~mask]\n",
    "y_train = yvals[mask]\n",
    "y_test = yvals[~mask]"
   ]
  },
  {
   "cell_type": "code",
   "execution_count": 12,
   "metadata": {
    "collapsed": true
   },
   "outputs": [],
   "source": [
    "#Now we'll get on with our Random Forest.\n",
    "from sklearn.ensemble import RandomForestClassifier\n",
    "\n",
    "##Create a large forest so we can better identify features\n",
    "clfForest = RandomForestClassifier(n_jobs = 3, n_estimators = 100)\n",
    "\n",
    "#We can graph importances.\n",
    "#First we fit\n",
    "fitforest = clfForest.fit(X_train, y_train)"
   ]
  },
  {
   "cell_type": "code",
   "execution_count": 13,
   "metadata": {
    "collapsed": false
   },
   "outputs": [
    {
     "data": {
      "image/png": "[encoded data removed]",
      "text/plain": [
       "<matplotlib.figure.Figure at 0x204f8c88>"
      ]
     },
     "metadata": {},
     "output_type": "display_data"
    }
   ],
   "source": [
    "#We can plot the importances\n",
    "importances = fitforest.feature_importances_\n",
    "importances, lcols = zip(*sorted(zip(importances, lcols)))\n",
    "#plot importances\n",
    "plt.barh(range(len(lcols)),importances,align='center')\n",
    "plt.yticks(range(len(lcols)),lcols)\n",
    "plt.xlabel('Relative Importance in the Random Forest')\n",
    "plt.ylabel('Features')\n",
    "plt.title('Relative importance of Each Feature')\n",
    "plt.show()"
   ]
  }
 ],
 "metadata": {
  "kernelspec": {
   "display_name": "Python 2",
   "language": "python",
   "name": "python2"
  },
  "language_info": {
   "codemirror_mode": {
    "name": "ipython",
    "version": 2
   },
   "file_extension": ".py",
   "mimetype": "text/x-python",
   "name": "python",
   "nbconvert_exporter": "python",
   "pygments_lexer": "ipython2",
   "version": "2.7.10"
  }
 },
 "nbformat": 4,
 "nbformat_minor": 0
}
